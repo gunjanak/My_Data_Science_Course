{
  "nbformat": 4,
  "nbformat_minor": 0,
  "metadata": {
    "colab": {
      "provenance": [],
      "collapsed_sections": [
        "DrYEoDzMTVkY",
        "5xjypyBnUFDX",
        "1RdHg1D1mQrB",
        "KAoyOn50nIjm",
        "JamBXJRKqF66",
        "Raht0bdQsOZz",
        "MO-3lQkjRTDC",
        "vCZl96HtYjGh",
        "rv8SOIehijKG"
      ],
      "mount_file_id": "1MBDickJ-Do3ipXJRqAXDS1zWiU_VZ3ne",
      "authorship_tag": "ABX9TyOTtXEjTXYxKBx6EB1j4u/d",
      "include_colab_link": true
    },
    "kernelspec": {
      "name": "python3",
      "display_name": "Python 3"
    },
    "language_info": {
      "name": "python"
    }
  },
  "cells": [
    {
      "cell_type": "markdown",
      "metadata": {
        "id": "view-in-github",
        "colab_type": "text"
      },
      "source": [
        "<a href=\"https://colab.research.google.com/github/gunjanak/My_Data_Science_Course/blob/main/Mongodb_Python.ipynb\" target=\"_parent\"><img src=\"https://colab.research.google.com/assets/colab-badge.svg\" alt=\"Open In Colab\"/></a>"
      ]
    },
    {
      "cell_type": "markdown",
      "source": [
        "#Basic installation and import"
      ],
      "metadata": {
        "id": "8q5fmkhxk5Ca"
      }
    },
    {
      "cell_type": "code",
      "source": [
        "!apt install mongodb"
      ],
      "metadata": {
        "id": "3Yg0X42rPZk9"
      },
      "execution_count": null,
      "outputs": []
    },
    {
      "cell_type": "code",
      "source": [
        "!service mongodb start"
      ],
      "metadata": {
        "colab": {
          "base_uri": "https://localhost:8080/"
        },
        "id": "9r10wrhhQC8R",
        "outputId": "b32ccfde-4938-48f7-b273-15bfff022622"
      },
      "execution_count": null,
      "outputs": [
        {
          "output_type": "stream",
          "name": "stdout",
          "text": [
            " * Starting database mongodb\n",
            "   ...done.\n"
          ]
        }
      ]
    },
    {
      "cell_type": "code",
      "source": [
        "from pymongo import MongoClient"
      ],
      "metadata": {
        "id": "0iOTXLoBOJ08"
      },
      "execution_count": null,
      "outputs": []
    },
    {
      "cell_type": "code",
      "source": [
        "client = MongoClient()"
      ],
      "metadata": {
        "id": "4yXYpKixOOe1"
      },
      "execution_count": null,
      "outputs": []
    },
    {
      "cell_type": "code",
      "source": [
        "client.list_database_names()"
      ],
      "metadata": {
        "colab": {
          "base_uri": "https://localhost:8080/"
        },
        "id": "iiOYf3ewORNE",
        "outputId": "66384916-eee1-49da-d1b0-a1776fb6ef00"
      },
      "execution_count": null,
      "outputs": [
        {
          "output_type": "execute_result",
          "data": {
            "text/plain": [
              "['admin', 'config', 'local']"
            ]
          },
          "metadata": {},
          "execution_count": 6
        }
      ]
    },
    {
      "cell_type": "markdown",
      "source": [
        "#Creating a Database"
      ],
      "metadata": {
        "id": "zo4gWmUlQTSE"
      }
    },
    {
      "cell_type": "code",
      "source": [
        "import pymongo"
      ],
      "metadata": {
        "id": "pm2oUsh3Qe4A"
      },
      "execution_count": null,
      "outputs": []
    },
    {
      "cell_type": "code",
      "source": [
        "mydb = client[\"MyDatabase\"]"
      ],
      "metadata": {
        "id": "9H5P3HJcOUyx"
      },
      "execution_count": null,
      "outputs": []
    },
    {
      "cell_type": "code",
      "source": [
        "client.list_database_names()"
      ],
      "metadata": {
        "colab": {
          "base_uri": "https://localhost:8080/"
        },
        "id": "jwwtePsqQqrc",
        "outputId": "f38d34ab-cb58-46c3-ba18-bebec740e272"
      },
      "execution_count": null,
      "outputs": [
        {
          "output_type": "execute_result",
          "data": {
            "text/plain": [
              "['admin', 'config', 'local']"
            ]
          },
          "metadata": {},
          "execution_count": 9
        }
      ]
    },
    {
      "cell_type": "markdown",
      "source": [
        "#Creating a Collection"
      ],
      "metadata": {
        "id": "beTKsXNgQ3ZV"
      }
    },
    {
      "cell_type": "code",
      "source": [
        "mycolletions = mydb['customers']"
      ],
      "metadata": {
        "id": "n6F0806eQwz6"
      },
      "execution_count": null,
      "outputs": []
    },
    {
      "cell_type": "code",
      "source": [
        "client.list_database_names()"
      ],
      "metadata": {
        "colab": {
          "base_uri": "https://localhost:8080/"
        },
        "id": "a9oHqnQyRDJq",
        "outputId": "91133514-d027-49c5-fa78-cf533d9b89d9"
      },
      "execution_count": null,
      "outputs": [
        {
          "output_type": "execute_result",
          "data": {
            "text/plain": [
              "['admin', 'config', 'local']"
            ]
          },
          "metadata": {},
          "execution_count": 10
        }
      ]
    },
    {
      "cell_type": "code",
      "source": [
        "mydb.list_collection_names()"
      ],
      "metadata": {
        "colab": {
          "base_uri": "https://localhost:8080/"
        },
        "id": "sLoYy4NnRF2R",
        "outputId": "d3859a94-668e-432e-9939-f12a3e0f9699"
      },
      "execution_count": null,
      "outputs": [
        {
          "output_type": "execute_result",
          "data": {
            "text/plain": [
              "[]"
            ]
          },
          "metadata": {},
          "execution_count": 11
        }
      ]
    },
    {
      "cell_type": "markdown",
      "source": [
        "#Insert into collection"
      ],
      "metadata": {
        "id": "4_HOE1w-RQkY"
      }
    },
    {
      "cell_type": "code",
      "source": [
        "mydict = {\"name\":\"John\",\"address\":\"Highway 37\"}"
      ],
      "metadata": {
        "id": "6BsSz0_ERNQn"
      },
      "execution_count": null,
      "outputs": []
    },
    {
      "cell_type": "code",
      "source": [
        "x = mycolletions.insert_one(mydict)"
      ],
      "metadata": {
        "id": "MFsFMCpdRqfy"
      },
      "execution_count": null,
      "outputs": []
    },
    {
      "cell_type": "code",
      "source": [
        "client.list_database_names()"
      ],
      "metadata": {
        "colab": {
          "base_uri": "https://localhost:8080/"
        },
        "id": "80l001PtRuPU",
        "outputId": "7c91b411-317c-4925-cad2-0d51a08f216a"
      },
      "execution_count": null,
      "outputs": [
        {
          "output_type": "execute_result",
          "data": {
            "text/plain": [
              "['MyDatabase', 'admin', 'config', 'local']"
            ]
          },
          "metadata": {},
          "execution_count": 14
        }
      ]
    },
    {
      "cell_type": "code",
      "source": [
        "mydb.list_collection_names()"
      ],
      "metadata": {
        "colab": {
          "base_uri": "https://localhost:8080/"
        },
        "id": "i_fy-MG7R6C-",
        "outputId": "6b069101-1695-4653-93bb-922b84572e36"
      },
      "execution_count": null,
      "outputs": [
        {
          "output_type": "execute_result",
          "data": {
            "text/plain": [
              "['customers']"
            ]
          },
          "metadata": {},
          "execution_count": 15
        }
      ]
    },
    {
      "cell_type": "markdown",
      "source": [
        "**Return the \\_id field**"
      ],
      "metadata": {
        "id": "iJ3HO3bzSBnB"
      }
    },
    {
      "cell_type": "code",
      "source": [
        "#the insert_one() method returns a InsertOneResult object, which has a property insert_i,that holds the id of the inserted document.\n",
        "dict2 = {\"name\":\"Peter\",\"address\":\"F street\"}\n",
        "x = mycolletions.insert_one(dict2)"
      ],
      "metadata": {
        "id": "JXnvwOhYR8n7"
      },
      "execution_count": null,
      "outputs": []
    },
    {
      "cell_type": "code",
      "source": [
        "print(x)"
      ],
      "metadata": {
        "colab": {
          "base_uri": "https://localhost:8080/"
        },
        "id": "NxF12tXsSfir",
        "outputId": "5c363038-4b6e-4b7d-aa43-2c80945572f3"
      },
      "execution_count": null,
      "outputs": [
        {
          "output_type": "stream",
          "name": "stdout",
          "text": [
            "<pymongo.results.InsertOneResult object at 0x7f7bb2f144c0>\n"
          ]
        }
      ]
    },
    {
      "cell_type": "code",
      "source": [
        "print(x.inserted_id)"
      ],
      "metadata": {
        "colab": {
          "base_uri": "https://localhost:8080/"
        },
        "id": "baQ3JR78SnOt",
        "outputId": "01d2c638-7b55-4983-ee99-bfd5af9b82a1"
      },
      "execution_count": null,
      "outputs": [
        {
          "output_type": "stream",
          "name": "stdout",
          "text": [
            "63d5d355d40693d04fc378ad\n"
          ]
        }
      ]
    },
    {
      "cell_type": "code",
      "source": [
        "#If you do not specify an _id field,\n",
        "#then MongoDB will add one for you and assign a unique id foreach document"
      ],
      "metadata": {
        "id": "8ycKDHFvSqMM"
      },
      "execution_count": null,
      "outputs": []
    },
    {
      "cell_type": "code",
      "source": [
        "#In the above example no _id field was specified,\n",
        "#so MongoDB assigned a unique _id for the record "
      ],
      "metadata": {
        "id": "IsszXWzxS8de"
      },
      "execution_count": null,
      "outputs": []
    },
    {
      "cell_type": "markdown",
      "source": [
        "#Insert Multiple documents"
      ],
      "metadata": {
        "id": "DrYEoDzMTVkY"
      }
    },
    {
      "cell_type": "code",
      "source": [
        "mylist = [\n",
        "    {\"name\":\"Rajesh\",\"address\":\"55 street\"},\n",
        "    {\"name\":\"Mickey\",\"address\":\"555 street\"},\n",
        "    {\"name\":\"Donald\",\"address\":\"855 street\"},\n",
        "    {\"name\":\"Goofy\",\"address\":\"556 street\"},\n",
        "    {\"name\":\"Baloo\",\"address\":\"56 street\"}\n",
        "\n",
        "]"
      ],
      "metadata": {
        "id": "NF-j88O8TUZs"
      },
      "execution_count": null,
      "outputs": []
    },
    {
      "cell_type": "code",
      "source": [
        "x = mycolletions.insert_many(mylist)"
      ],
      "metadata": {
        "id": "fo-MvwQOTueI"
      },
      "execution_count": null,
      "outputs": []
    },
    {
      "cell_type": "code",
      "source": [
        "#print list of the _id values of the inserted documents\n",
        "print(x.inserted_ids)"
      ],
      "metadata": {
        "colab": {
          "base_uri": "https://localhost:8080/"
        },
        "id": "ea-T71PXT3Vz",
        "outputId": "2ca24d97-4f8d-4139-ba37-06972c51092f"
      },
      "execution_count": null,
      "outputs": [
        {
          "output_type": "stream",
          "name": "stdout",
          "text": [
            "[ObjectId('63d5d359d40693d04fc378ae'), ObjectId('63d5d359d40693d04fc378af'), ObjectId('63d5d359d40693d04fc378b0'), ObjectId('63d5d359d40693d04fc378b1'), ObjectId('63d5d359d40693d04fc378b2')]\n"
          ]
        }
      ]
    },
    {
      "cell_type": "markdown",
      "source": [
        "#Insert Multiple Documents,with specified IDs"
      ],
      "metadata": {
        "id": "5xjypyBnUFDX"
      }
    },
    {
      "cell_type": "code",
      "source": [
        "car_list = [\n",
        "    {\"_id\":1,\"Brand\":\"Audi\",\"Color\":\"Yellow\"},\n",
        "    {\"_id\":2,\"Brand\":\"Toyota\",\"Color\":\"Purple\"},\n",
        "    {\"_id\":3,\"Brand\":\"Honda\",\"Color\":\"Green\"},\n",
        "    {\"_id\":4,\"Brand\":\"Bajaj\",\"Color\":\"red\"},\n",
        "    {\"_id\":5,\"Brand\":\"Dragon\",\"Color\":\"Pink\"}\n",
        "]"
      ],
      "metadata": {
        "id": "4R9Difi_T_tb"
      },
      "execution_count": null,
      "outputs": []
    },
    {
      "cell_type": "code",
      "source": [
        "x = mycolletions.insert_many(car_list)"
      ],
      "metadata": {
        "id": "rgYGFBgwUyLD"
      },
      "execution_count": null,
      "outputs": []
    },
    {
      "cell_type": "code",
      "source": [
        "print(x.inserted_ids)"
      ],
      "metadata": {
        "colab": {
          "base_uri": "https://localhost:8080/"
        },
        "id": "6I9RdPmRU4XR",
        "outputId": "d03b0744-a72d-448b-9866-d5afaebc96e5"
      },
      "execution_count": null,
      "outputs": [
        {
          "output_type": "stream",
          "name": "stdout",
          "text": [
            "[1, 2, 3, 4, 5]\n"
          ]
        }
      ]
    },
    {
      "cell_type": "markdown",
      "source": [
        "#Find"
      ],
      "metadata": {
        "id": "i9OkpiRLBEMC"
      }
    },
    {
      "cell_type": "code",
      "source": [
        "#find_one() method returns the first occurence in the selection\n",
        "x = mycolletions.find_one()"
      ],
      "metadata": {
        "id": "cHVfYnWgU8A0"
      },
      "execution_count": null,
      "outputs": []
    },
    {
      "cell_type": "code",
      "source": [
        "x"
      ],
      "metadata": {
        "colab": {
          "base_uri": "https://localhost:8080/"
        },
        "id": "6Pr6MheWBAPg",
        "outputId": "f0be25d6-8886-420a-c311-db86f4a728ad"
      },
      "execution_count": null,
      "outputs": [
        {
          "output_type": "execute_result",
          "data": {
            "text/plain": [
              "{'_id': ObjectId('63d5d355d40693d04fc378ac'),\n",
              " 'name': 'John',\n",
              " 'address': 'Highway 37'}"
            ]
          },
          "metadata": {},
          "execution_count": 28
        }
      ]
    },
    {
      "cell_type": "code",
      "source": [
        "for x in mycolletions.find():\n",
        "  print(x)"
      ],
      "metadata": {
        "colab": {
          "base_uri": "https://localhost:8080/"
        },
        "id": "rp1eQYF3BBKt",
        "outputId": "89e47a9c-5d82-424c-f5b8-74fac42f6e03"
      },
      "execution_count": null,
      "outputs": [
        {
          "output_type": "stream",
          "name": "stdout",
          "text": [
            "{'_id': ObjectId('63d5d355d40693d04fc378ac'), 'name': 'John', 'address': 'Highway 37'}\n",
            "{'_id': ObjectId('63d5d355d40693d04fc378ad'), 'name': 'Peter', 'address': 'F street'}\n",
            "{'_id': ObjectId('63d5d359d40693d04fc378ae'), 'name': 'Rajesh', 'address': '55 street'}\n",
            "{'_id': ObjectId('63d5d359d40693d04fc378af'), 'name': 'Mickey', 'address': '555 street'}\n",
            "{'_id': ObjectId('63d5d359d40693d04fc378b0'), 'name': 'Donald', 'address': '855 street'}\n",
            "{'_id': ObjectId('63d5d359d40693d04fc378b1'), 'name': 'Goofy', 'address': '556 street'}\n",
            "{'_id': ObjectId('63d5d359d40693d04fc378b2'), 'name': 'Baloo', 'address': '56 street'}\n",
            "{'_id': 1, 'Brand': 'Audi', 'Color': 'Yellow'}\n",
            "{'_id': 2, 'Brand': 'Toyota', 'Color': 'Purple'}\n",
            "{'_id': 3, 'Brand': 'Honda', 'Color': 'Green'}\n",
            "{'_id': 4, 'Brand': 'Bajaj', 'Color': 'red'}\n",
            "{'_id': 5, 'Brand': 'Dragon', 'Color': 'Pink'}\n"
          ]
        }
      ]
    },
    {
      "cell_type": "code",
      "source": [
        "for x in mycolletions.find({},{\"_id\":0,\"name\":1,\"address\":1}):\n",
        "  print(x)"
      ],
      "metadata": {
        "colab": {
          "base_uri": "https://localhost:8080/"
        },
        "id": "zpD_G7cjBcAI",
        "outputId": "38dbca57-de7c-4b05-8579-2805e4babb14"
      },
      "execution_count": null,
      "outputs": [
        {
          "output_type": "stream",
          "name": "stdout",
          "text": [
            "{'name': 'John', 'address': 'Highway 37'}\n",
            "{'name': 'Peter', 'address': 'F street'}\n",
            "{'name': 'Rajesh', 'address': '55 street'}\n",
            "{'name': 'Mickey', 'address': '555 street'}\n",
            "{'name': 'Donald', 'address': '855 street'}\n",
            "{'name': 'Goofy', 'address': '556 street'}\n",
            "{'name': 'Baloo', 'address': '56 street'}\n",
            "{}\n",
            "{}\n",
            "{}\n",
            "{}\n",
            "{}\n"
          ]
        }
      ]
    },
    {
      "cell_type": "code",
      "source": [
        "for x in mycolletions.find({},{\"_id\":0,\"name\":1,\"address\":1}):\n",
        "  print(x)"
      ],
      "metadata": {
        "colab": {
          "base_uri": "https://localhost:8080/"
        },
        "id": "97guzpSEB2od",
        "outputId": "63eb1e44-86e5-44f9-bcc9-203d7b36ca8d"
      },
      "execution_count": null,
      "outputs": [
        {
          "output_type": "stream",
          "name": "stdout",
          "text": [
            "{'name': 'John', 'address': 'Highway 37'}\n",
            "{'name': 'Peter', 'address': 'F street'}\n",
            "{'name': 'Rajesh', 'address': '55 street'}\n",
            "{'name': 'Mickey', 'address': '555 street'}\n",
            "{'name': 'Donald', 'address': '855 street'}\n",
            "{'name': 'Goofy', 'address': '556 street'}\n",
            "{'name': 'Baloo', 'address': '56 street'}\n",
            "{}\n",
            "{}\n",
            "{}\n",
            "{}\n",
            "{}\n"
          ]
        }
      ]
    },
    {
      "cell_type": "code",
      "source": [
        "for x in mycolletions.find({},{\"address\":1}):\n",
        "  print(x)"
      ],
      "metadata": {
        "id": "-_7QwPwEQhPl",
        "colab": {
          "base_uri": "https://localhost:8080/"
        },
        "outputId": "3d602489-9808-4d86-89db-fcca65a37ddb"
      },
      "execution_count": null,
      "outputs": [
        {
          "output_type": "stream",
          "name": "stdout",
          "text": [
            "{'_id': ObjectId('63d5d355d40693d04fc378ac'), 'address': 'Highway 37'}\n",
            "{'_id': ObjectId('63d5d355d40693d04fc378ad'), 'address': 'F street'}\n",
            "{'_id': ObjectId('63d5d359d40693d04fc378ae'), 'address': '55 street'}\n",
            "{'_id': ObjectId('63d5d359d40693d04fc378af'), 'address': '555 street'}\n",
            "{'_id': ObjectId('63d5d359d40693d04fc378b0'), 'address': '855 street'}\n",
            "{'_id': ObjectId('63d5d359d40693d04fc378b1'), 'address': '556 street'}\n",
            "{'_id': ObjectId('63d5d359d40693d04fc378b2'), 'address': '56 street'}\n",
            "{'_id': 1}\n",
            "{'_id': 2}\n",
            "{'_id': 3}\n",
            "{'_id': 4}\n",
            "{'_id': 5}\n"
          ]
        }
      ]
    },
    {
      "cell_type": "code",
      "source": [
        "for x in mycolletions.find({},{\"address\":0}):\n",
        "  print(x)"
      ],
      "metadata": {
        "colab": {
          "base_uri": "https://localhost:8080/"
        },
        "id": "D5cHheK8Cbd9",
        "outputId": "fa8a8257-266e-4b56-9e41-1280ffeff0ab"
      },
      "execution_count": null,
      "outputs": [
        {
          "output_type": "stream",
          "name": "stdout",
          "text": [
            "{'_id': ObjectId('63d5d355d40693d04fc378ac'), 'name': 'John'}\n",
            "{'_id': ObjectId('63d5d355d40693d04fc378ad'), 'name': 'Peter'}\n",
            "{'_id': ObjectId('63d5d359d40693d04fc378ae'), 'name': 'Rajesh'}\n",
            "{'_id': ObjectId('63d5d359d40693d04fc378af'), 'name': 'Mickey'}\n",
            "{'_id': ObjectId('63d5d359d40693d04fc378b0'), 'name': 'Donald'}\n",
            "{'_id': ObjectId('63d5d359d40693d04fc378b1'), 'name': 'Goofy'}\n",
            "{'_id': ObjectId('63d5d359d40693d04fc378b2'), 'name': 'Baloo'}\n",
            "{'_id': 1, 'Brand': 'Audi', 'Color': 'Yellow'}\n",
            "{'_id': 2, 'Brand': 'Toyota', 'Color': 'Purple'}\n",
            "{'_id': 3, 'Brand': 'Honda', 'Color': 'Green'}\n",
            "{'_id': 4, 'Brand': 'Bajaj', 'Color': 'red'}\n",
            "{'_id': 5, 'Brand': 'Dragon', 'Color': 'Pink'}\n"
          ]
        }
      ]
    },
    {
      "cell_type": "code",
      "source": [
        "for x in mycolletions.find({},{\"name\":1,\"address\":0}):\n",
        "  print(x)"
      ],
      "metadata": {
        "colab": {
          "base_uri": "https://localhost:8080/",
          "height": 363
        },
        "id": "BJmLfVYQCjD9",
        "outputId": "706e585b-f389-4266-cbb4-98c1f48174a3"
      },
      "execution_count": null,
      "outputs": [
        {
          "output_type": "error",
          "ename": "OperationFailure",
          "evalue": "ignored",
          "traceback": [
            "\u001b[0;31m---------------------------------------------------------------------------\u001b[0m",
            "\u001b[0;31mOperationFailure\u001b[0m                          Traceback (most recent call last)",
            "\u001b[0;32m<ipython-input-34-bac4eb279b55>\u001b[0m in \u001b[0;36m<module>\u001b[0;34m\u001b[0m\n\u001b[0;32m----> 1\u001b[0;31m \u001b[0;32mfor\u001b[0m \u001b[0mx\u001b[0m \u001b[0;32min\u001b[0m \u001b[0mmycolletions\u001b[0m\u001b[0;34m.\u001b[0m\u001b[0mfind\u001b[0m\u001b[0;34m(\u001b[0m\u001b[0;34m{\u001b[0m\u001b[0;34m}\u001b[0m\u001b[0;34m,\u001b[0m\u001b[0;34m{\u001b[0m\u001b[0;34m\"name\"\u001b[0m\u001b[0;34m:\u001b[0m\u001b[0;36m1\u001b[0m\u001b[0;34m,\u001b[0m\u001b[0;34m\"address\"\u001b[0m\u001b[0;34m:\u001b[0m\u001b[0;36m0\u001b[0m\u001b[0;34m}\u001b[0m\u001b[0;34m)\u001b[0m\u001b[0;34m:\u001b[0m\u001b[0;34m\u001b[0m\u001b[0;34m\u001b[0m\u001b[0m\n\u001b[0m\u001b[1;32m      2\u001b[0m   \u001b[0mprint\u001b[0m\u001b[0;34m(\u001b[0m\u001b[0mx\u001b[0m\u001b[0;34m)\u001b[0m\u001b[0;34m\u001b[0m\u001b[0;34m\u001b[0m\u001b[0m\n",
            "\u001b[0;32m/usr/local/lib/python3.8/dist-packages/pymongo/cursor.py\u001b[0m in \u001b[0;36mnext\u001b[0;34m(self)\u001b[0m\n\u001b[1;32m   1246\u001b[0m         \u001b[0;32mif\u001b[0m \u001b[0mself\u001b[0m\u001b[0;34m.\u001b[0m\u001b[0m__empty\u001b[0m\u001b[0;34m:\u001b[0m\u001b[0;34m\u001b[0m\u001b[0;34m\u001b[0m\u001b[0m\n\u001b[1;32m   1247\u001b[0m             \u001b[0;32mraise\u001b[0m \u001b[0mStopIteration\u001b[0m\u001b[0;34m\u001b[0m\u001b[0;34m\u001b[0m\u001b[0m\n\u001b[0;32m-> 1248\u001b[0;31m         \u001b[0;32mif\u001b[0m \u001b[0mlen\u001b[0m\u001b[0;34m(\u001b[0m\u001b[0mself\u001b[0m\u001b[0;34m.\u001b[0m\u001b[0m__data\u001b[0m\u001b[0;34m)\u001b[0m \u001b[0;32mor\u001b[0m \u001b[0mself\u001b[0m\u001b[0;34m.\u001b[0m\u001b[0m_refresh\u001b[0m\u001b[0;34m(\u001b[0m\u001b[0;34m)\u001b[0m\u001b[0;34m:\u001b[0m\u001b[0;34m\u001b[0m\u001b[0;34m\u001b[0m\u001b[0m\n\u001b[0m\u001b[1;32m   1249\u001b[0m             \u001b[0;32mreturn\u001b[0m \u001b[0mself\u001b[0m\u001b[0;34m.\u001b[0m\u001b[0m__data\u001b[0m\u001b[0;34m.\u001b[0m\u001b[0mpopleft\u001b[0m\u001b[0;34m(\u001b[0m\u001b[0;34m)\u001b[0m\u001b[0;34m\u001b[0m\u001b[0;34m\u001b[0m\u001b[0m\n\u001b[1;32m   1250\u001b[0m         \u001b[0;32melse\u001b[0m\u001b[0;34m:\u001b[0m\u001b[0;34m\u001b[0m\u001b[0;34m\u001b[0m\u001b[0m\n",
            "\u001b[0;32m/usr/local/lib/python3.8/dist-packages/pymongo/cursor.py\u001b[0m in \u001b[0;36m_refresh\u001b[0;34m(self)\u001b[0m\n\u001b[1;32m   1163\u001b[0m                 \u001b[0mself\u001b[0m\u001b[0;34m.\u001b[0m\u001b[0m__exhaust\u001b[0m\u001b[0;34m,\u001b[0m\u001b[0;34m\u001b[0m\u001b[0;34m\u001b[0m\u001b[0m\n\u001b[1;32m   1164\u001b[0m             )\n\u001b[0;32m-> 1165\u001b[0;31m             \u001b[0mself\u001b[0m\u001b[0;34m.\u001b[0m\u001b[0m__send_message\u001b[0m\u001b[0;34m(\u001b[0m\u001b[0mq\u001b[0m\u001b[0;34m)\u001b[0m\u001b[0;34m\u001b[0m\u001b[0;34m\u001b[0m\u001b[0m\n\u001b[0m\u001b[1;32m   1166\u001b[0m         \u001b[0;32melif\u001b[0m \u001b[0mself\u001b[0m\u001b[0;34m.\u001b[0m\u001b[0m__id\u001b[0m\u001b[0;34m:\u001b[0m  \u001b[0;31m# Get More\u001b[0m\u001b[0;34m\u001b[0m\u001b[0;34m\u001b[0m\u001b[0m\n\u001b[1;32m   1167\u001b[0m             \u001b[0;32mif\u001b[0m \u001b[0mself\u001b[0m\u001b[0;34m.\u001b[0m\u001b[0m__limit\u001b[0m\u001b[0;34m:\u001b[0m\u001b[0;34m\u001b[0m\u001b[0;34m\u001b[0m\u001b[0m\n",
            "\u001b[0;32m/usr/local/lib/python3.8/dist-packages/pymongo/cursor.py\u001b[0m in \u001b[0;36m__send_message\u001b[0;34m(self, operation)\u001b[0m\n\u001b[1;32m   1050\u001b[0m \u001b[0;34m\u001b[0m\u001b[0m\n\u001b[1;32m   1051\u001b[0m         \u001b[0;32mtry\u001b[0m\u001b[0;34m:\u001b[0m\u001b[0;34m\u001b[0m\u001b[0;34m\u001b[0m\u001b[0m\n\u001b[0;32m-> 1052\u001b[0;31m             response = client._run_operation(\n\u001b[0m\u001b[1;32m   1053\u001b[0m                 \u001b[0moperation\u001b[0m\u001b[0;34m,\u001b[0m \u001b[0mself\u001b[0m\u001b[0;34m.\u001b[0m\u001b[0m_unpack_response\u001b[0m\u001b[0;34m,\u001b[0m \u001b[0maddress\u001b[0m\u001b[0;34m=\u001b[0m\u001b[0mself\u001b[0m\u001b[0;34m.\u001b[0m\u001b[0m__address\u001b[0m\u001b[0;34m\u001b[0m\u001b[0;34m\u001b[0m\u001b[0m\n\u001b[1;32m   1054\u001b[0m             )\n",
            "\u001b[0;32m/usr/local/lib/python3.8/dist-packages/pymongo/_csot.py\u001b[0m in \u001b[0;36mcsot_wrapper\u001b[0;34m(self, *args, **kwargs)\u001b[0m\n\u001b[1;32m    103\u001b[0m                 \u001b[0;32mwith\u001b[0m \u001b[0m_TimeoutContext\u001b[0m\u001b[0;34m(\u001b[0m\u001b[0mtimeout\u001b[0m\u001b[0;34m)\u001b[0m\u001b[0;34m:\u001b[0m\u001b[0;34m\u001b[0m\u001b[0;34m\u001b[0m\u001b[0m\n\u001b[1;32m    104\u001b[0m                     \u001b[0;32mreturn\u001b[0m \u001b[0mfunc\u001b[0m\u001b[0;34m(\u001b[0m\u001b[0mself\u001b[0m\u001b[0;34m,\u001b[0m \u001b[0;34m*\u001b[0m\u001b[0margs\u001b[0m\u001b[0;34m,\u001b[0m \u001b[0;34m**\u001b[0m\u001b[0mkwargs\u001b[0m\u001b[0;34m)\u001b[0m\u001b[0;34m\u001b[0m\u001b[0;34m\u001b[0m\u001b[0m\n\u001b[0;32m--> 105\u001b[0;31m         \u001b[0;32mreturn\u001b[0m \u001b[0mfunc\u001b[0m\u001b[0;34m(\u001b[0m\u001b[0mself\u001b[0m\u001b[0;34m,\u001b[0m \u001b[0;34m*\u001b[0m\u001b[0margs\u001b[0m\u001b[0;34m,\u001b[0m \u001b[0;34m**\u001b[0m\u001b[0mkwargs\u001b[0m\u001b[0;34m)\u001b[0m\u001b[0;34m\u001b[0m\u001b[0;34m\u001b[0m\u001b[0m\n\u001b[0m\u001b[1;32m    106\u001b[0m \u001b[0;34m\u001b[0m\u001b[0m\n\u001b[1;32m    107\u001b[0m     \u001b[0;32mreturn\u001b[0m \u001b[0mcast\u001b[0m\u001b[0;34m(\u001b[0m\u001b[0mF\u001b[0m\u001b[0;34m,\u001b[0m \u001b[0mcsot_wrapper\u001b[0m\u001b[0;34m)\u001b[0m\u001b[0;34m\u001b[0m\u001b[0;34m\u001b[0m\u001b[0m\n",
            "\u001b[0;32m/usr/local/lib/python3.8/dist-packages/pymongo/mongo_client.py\u001b[0m in \u001b[0;36m_run_operation\u001b[0;34m(self, operation, unpack_res, address)\u001b[0m\n\u001b[1;32m   1328\u001b[0m             )\n\u001b[1;32m   1329\u001b[0m \u001b[0;34m\u001b[0m\u001b[0m\n\u001b[0;32m-> 1330\u001b[0;31m         return self._retryable_read(\n\u001b[0m\u001b[1;32m   1331\u001b[0m             \u001b[0m_cmd\u001b[0m\u001b[0;34m,\u001b[0m\u001b[0;34m\u001b[0m\u001b[0;34m\u001b[0m\u001b[0m\n\u001b[1;32m   1332\u001b[0m             \u001b[0moperation\u001b[0m\u001b[0;34m.\u001b[0m\u001b[0mread_preference\u001b[0m\u001b[0;34m,\u001b[0m\u001b[0;34m\u001b[0m\u001b[0;34m\u001b[0m\u001b[0m\n",
            "\u001b[0;32m/usr/local/lib/python3.8/dist-packages/pymongo/_csot.py\u001b[0m in \u001b[0;36mcsot_wrapper\u001b[0;34m(self, *args, **kwargs)\u001b[0m\n\u001b[1;32m    103\u001b[0m                 \u001b[0;32mwith\u001b[0m \u001b[0m_TimeoutContext\u001b[0m\u001b[0;34m(\u001b[0m\u001b[0mtimeout\u001b[0m\u001b[0;34m)\u001b[0m\u001b[0;34m:\u001b[0m\u001b[0;34m\u001b[0m\u001b[0;34m\u001b[0m\u001b[0m\n\u001b[1;32m    104\u001b[0m                     \u001b[0;32mreturn\u001b[0m \u001b[0mfunc\u001b[0m\u001b[0;34m(\u001b[0m\u001b[0mself\u001b[0m\u001b[0;34m,\u001b[0m \u001b[0;34m*\u001b[0m\u001b[0margs\u001b[0m\u001b[0;34m,\u001b[0m \u001b[0;34m**\u001b[0m\u001b[0mkwargs\u001b[0m\u001b[0;34m)\u001b[0m\u001b[0;34m\u001b[0m\u001b[0;34m\u001b[0m\u001b[0m\n\u001b[0;32m--> 105\u001b[0;31m         \u001b[0;32mreturn\u001b[0m \u001b[0mfunc\u001b[0m\u001b[0;34m(\u001b[0m\u001b[0mself\u001b[0m\u001b[0;34m,\u001b[0m \u001b[0;34m*\u001b[0m\u001b[0margs\u001b[0m\u001b[0;34m,\u001b[0m \u001b[0;34m**\u001b[0m\u001b[0mkwargs\u001b[0m\u001b[0;34m)\u001b[0m\u001b[0;34m\u001b[0m\u001b[0;34m\u001b[0m\u001b[0m\n\u001b[0m\u001b[1;32m    106\u001b[0m \u001b[0;34m\u001b[0m\u001b[0m\n\u001b[1;32m    107\u001b[0m     \u001b[0;32mreturn\u001b[0m \u001b[0mcast\u001b[0m\u001b[0;34m(\u001b[0m\u001b[0mF\u001b[0m\u001b[0;34m,\u001b[0m \u001b[0mcsot_wrapper\u001b[0m\u001b[0;34m)\u001b[0m\u001b[0;34m\u001b[0m\u001b[0;34m\u001b[0m\u001b[0m\n",
            "\u001b[0;32m/usr/local/lib/python3.8/dist-packages/pymongo/mongo_client.py\u001b[0m in \u001b[0;36m_retryable_read\u001b[0;34m(self, func, read_pref, session, address, retryable)\u001b[0m\n\u001b[1;32m   1446\u001b[0m                         \u001b[0;32massert\u001b[0m \u001b[0mlast_error\u001b[0m \u001b[0;32mis\u001b[0m \u001b[0;32mnot\u001b[0m \u001b[0;32mNone\u001b[0m\u001b[0;34m\u001b[0m\u001b[0;34m\u001b[0m\u001b[0m\n\u001b[1;32m   1447\u001b[0m                         \u001b[0;32mraise\u001b[0m \u001b[0mlast_error\u001b[0m\u001b[0;34m\u001b[0m\u001b[0;34m\u001b[0m\u001b[0m\n\u001b[0;32m-> 1448\u001b[0;31m                     \u001b[0;32mreturn\u001b[0m \u001b[0mfunc\u001b[0m\u001b[0;34m(\u001b[0m\u001b[0msession\u001b[0m\u001b[0;34m,\u001b[0m \u001b[0mserver\u001b[0m\u001b[0;34m,\u001b[0m \u001b[0msock_info\u001b[0m\u001b[0;34m,\u001b[0m \u001b[0mread_pref\u001b[0m\u001b[0;34m)\u001b[0m\u001b[0;34m\u001b[0m\u001b[0;34m\u001b[0m\u001b[0m\n\u001b[0m\u001b[1;32m   1449\u001b[0m             \u001b[0;32mexcept\u001b[0m \u001b[0mServerSelectionTimeoutError\u001b[0m\u001b[0;34m:\u001b[0m\u001b[0;34m\u001b[0m\u001b[0;34m\u001b[0m\u001b[0m\n\u001b[1;32m   1450\u001b[0m                 \u001b[0;32mif\u001b[0m \u001b[0mretrying\u001b[0m\u001b[0;34m:\u001b[0m\u001b[0;34m\u001b[0m\u001b[0;34m\u001b[0m\u001b[0m\n",
            "\u001b[0;32m/usr/local/lib/python3.8/dist-packages/pymongo/mongo_client.py\u001b[0m in \u001b[0;36m_cmd\u001b[0;34m(session, server, sock_info, read_preference)\u001b[0m\n\u001b[1;32m   1324\u001b[0m         \u001b[0;32mdef\u001b[0m \u001b[0m_cmd\u001b[0m\u001b[0;34m(\u001b[0m\u001b[0msession\u001b[0m\u001b[0;34m,\u001b[0m \u001b[0mserver\u001b[0m\u001b[0;34m,\u001b[0m \u001b[0msock_info\u001b[0m\u001b[0;34m,\u001b[0m \u001b[0mread_preference\u001b[0m\u001b[0;34m)\u001b[0m\u001b[0;34m:\u001b[0m\u001b[0;34m\u001b[0m\u001b[0;34m\u001b[0m\u001b[0m\n\u001b[1;32m   1325\u001b[0m             \u001b[0moperation\u001b[0m\u001b[0;34m.\u001b[0m\u001b[0mreset\u001b[0m\u001b[0;34m(\u001b[0m\u001b[0;34m)\u001b[0m  \u001b[0;31m# Reset op in case of retry.\u001b[0m\u001b[0;34m\u001b[0m\u001b[0;34m\u001b[0m\u001b[0m\n\u001b[0;32m-> 1326\u001b[0;31m             return server.run_operation(\n\u001b[0m\u001b[1;32m   1327\u001b[0m                 \u001b[0msock_info\u001b[0m\u001b[0;34m,\u001b[0m \u001b[0moperation\u001b[0m\u001b[0;34m,\u001b[0m \u001b[0mread_preference\u001b[0m\u001b[0;34m,\u001b[0m \u001b[0mself\u001b[0m\u001b[0;34m.\u001b[0m\u001b[0m_event_listeners\u001b[0m\u001b[0;34m,\u001b[0m \u001b[0munpack_res\u001b[0m\u001b[0;34m\u001b[0m\u001b[0;34m\u001b[0m\u001b[0m\n\u001b[1;32m   1328\u001b[0m             )\n",
            "\u001b[0;32m/usr/local/lib/python3.8/dist-packages/pymongo/server.py\u001b[0m in \u001b[0;36mrun_operation\u001b[0;34m(self, sock_info, operation, read_preference, listeners, unpack_res)\u001b[0m\n\u001b[1;32m    132\u001b[0m                 \u001b[0mfirst\u001b[0m \u001b[0;34m=\u001b[0m \u001b[0mdocs\u001b[0m\u001b[0;34m[\u001b[0m\u001b[0;36m0\u001b[0m\u001b[0;34m]\u001b[0m\u001b[0;34m\u001b[0m\u001b[0;34m\u001b[0m\u001b[0m\n\u001b[1;32m    133\u001b[0m                 \u001b[0moperation\u001b[0m\u001b[0;34m.\u001b[0m\u001b[0mclient\u001b[0m\u001b[0;34m.\u001b[0m\u001b[0m_process_response\u001b[0m\u001b[0;34m(\u001b[0m\u001b[0mfirst\u001b[0m\u001b[0;34m,\u001b[0m \u001b[0moperation\u001b[0m\u001b[0;34m.\u001b[0m\u001b[0msession\u001b[0m\u001b[0;34m)\u001b[0m\u001b[0;34m\u001b[0m\u001b[0;34m\u001b[0m\u001b[0m\n\u001b[0;32m--> 134\u001b[0;31m                 \u001b[0m_check_command_response\u001b[0m\u001b[0;34m(\u001b[0m\u001b[0mfirst\u001b[0m\u001b[0;34m,\u001b[0m \u001b[0msock_info\u001b[0m\u001b[0;34m.\u001b[0m\u001b[0mmax_wire_version\u001b[0m\u001b[0;34m)\u001b[0m\u001b[0;34m\u001b[0m\u001b[0;34m\u001b[0m\u001b[0m\n\u001b[0m\u001b[1;32m    135\u001b[0m         \u001b[0;32mexcept\u001b[0m \u001b[0mException\u001b[0m \u001b[0;32mas\u001b[0m \u001b[0mexc\u001b[0m\u001b[0;34m:\u001b[0m\u001b[0;34m\u001b[0m\u001b[0;34m\u001b[0m\u001b[0m\n\u001b[1;32m    136\u001b[0m             \u001b[0;32mif\u001b[0m \u001b[0mpublish\u001b[0m\u001b[0;34m:\u001b[0m\u001b[0;34m\u001b[0m\u001b[0;34m\u001b[0m\u001b[0m\n",
            "\u001b[0;32m/usr/local/lib/python3.8/dist-packages/pymongo/helpers.py\u001b[0m in \u001b[0;36m_check_command_response\u001b[0;34m(response, max_wire_version, allowable_errors, parse_write_concern_error)\u001b[0m\n\u001b[1;32m    179\u001b[0m         \u001b[0;32mraise\u001b[0m \u001b[0mCursorNotFound\u001b[0m\u001b[0;34m(\u001b[0m\u001b[0merrmsg\u001b[0m\u001b[0;34m,\u001b[0m \u001b[0mcode\u001b[0m\u001b[0;34m,\u001b[0m \u001b[0mresponse\u001b[0m\u001b[0;34m,\u001b[0m \u001b[0mmax_wire_version\u001b[0m\u001b[0;34m)\u001b[0m\u001b[0;34m\u001b[0m\u001b[0;34m\u001b[0m\u001b[0m\n\u001b[1;32m    180\u001b[0m \u001b[0;34m\u001b[0m\u001b[0m\n\u001b[0;32m--> 181\u001b[0;31m     \u001b[0;32mraise\u001b[0m \u001b[0mOperationFailure\u001b[0m\u001b[0;34m(\u001b[0m\u001b[0merrmsg\u001b[0m\u001b[0;34m,\u001b[0m \u001b[0mcode\u001b[0m\u001b[0;34m,\u001b[0m \u001b[0mresponse\u001b[0m\u001b[0;34m,\u001b[0m \u001b[0mmax_wire_version\u001b[0m\u001b[0;34m)\u001b[0m\u001b[0;34m\u001b[0m\u001b[0;34m\u001b[0m\u001b[0m\n\u001b[0m\u001b[1;32m    182\u001b[0m \u001b[0;34m\u001b[0m\u001b[0m\n\u001b[1;32m    183\u001b[0m \u001b[0;34m\u001b[0m\u001b[0m\n",
            "\u001b[0;31mOperationFailure\u001b[0m: Projection cannot have a mix of inclusion and exclusion., full error: {'ok': 0.0, 'errmsg': 'Projection cannot have a mix of inclusion and exclusion.', 'code': 2, 'codeName': 'BadValue'}"
          ]
        }
      ]
    },
    {
      "cell_type": "markdown",
      "source": [
        "#MongoDB Query"
      ],
      "metadata": {
        "id": "X4FcEl5MDL3P"
      }
    },
    {
      "cell_type": "code",
      "source": [
        "books = mydb['Books']"
      ],
      "metadata": {
        "id": "iTRwpW9XlYV5"
      },
      "execution_count": null,
      "outputs": []
    },
    {
      "cell_type": "code",
      "source": [
        "book_list = [\n",
        "    {\"Writer\":\"Poulo Coelho\",\"Name\":\"Zahir\",\"Price\":123},\n",
        "    {\"Writer\":\"Poulo Coelho\",\"Name\":\"Alchemist\",\"Price\":231},\n",
        "    {\"Writer\":\"Poulo Coelho\",\"Name\":\"Aleph\",\"Price\":356},\n",
        "    {\"Writer\":\"Poulo Coelho\",\"Name\":\"Brida\",\"Price\":896}  \n",
        "]"
      ],
      "metadata": {
        "id": "7D-GRXHsSP2M"
      },
      "execution_count": null,
      "outputs": []
    },
    {
      "cell_type": "code",
      "source": [
        "x = books.insert_many(book_list)"
      ],
      "metadata": {
        "id": "iI1RL-5wlm1H"
      },
      "execution_count": null,
      "outputs": []
    },
    {
      "cell_type": "code",
      "source": [
        "x"
      ],
      "metadata": {
        "colab": {
          "base_uri": "https://localhost:8080/"
        },
        "id": "w2d7D4zsl0AJ",
        "outputId": "0f4c9c7b-3b21-4bfb-963e-7b0fba0ecd24"
      },
      "execution_count": null,
      "outputs": [
        {
          "output_type": "execute_result",
          "data": {
            "text/plain": [
              "<pymongo.results.InsertManyResult at 0x7f047dbb7640>"
            ]
          },
          "metadata": {},
          "execution_count": 12
        }
      ]
    },
    {
      "cell_type": "code",
      "source": [
        "myquery = {\"Price\":{\"$gt\":300}}"
      ],
      "metadata": {
        "id": "EjybyfdZl034"
      },
      "execution_count": null,
      "outputs": []
    },
    {
      "cell_type": "code",
      "source": [
        "mydoc = books.find(myquery)"
      ],
      "metadata": {
        "id": "Q30ZrjIwl9_U"
      },
      "execution_count": null,
      "outputs": []
    },
    {
      "cell_type": "code",
      "source": [
        "for x in mydoc:\n",
        "  print(x)"
      ],
      "metadata": {
        "colab": {
          "base_uri": "https://localhost:8080/"
        },
        "id": "ZKLOXI5TmE2V",
        "outputId": "58963141-adf5-42ab-e38a-1bd3ac5626ee"
      },
      "execution_count": null,
      "outputs": [
        {
          "output_type": "stream",
          "name": "stdout",
          "text": [
            "{'_id': ObjectId('63d5e949d82bf7b01ba50278'), 'Writer': 'Poulo Coelho', 'Name': 'Aleph', 'Price': 356}\n",
            "{'_id': ObjectId('63d5e949d82bf7b01ba50279'), 'Writer': 'Poulo Coelho', 'Name': 'Brida', 'Price': 896}\n"
          ]
        }
      ]
    },
    {
      "cell_type": "markdown",
      "source": [
        "#Filter with regular expression"
      ],
      "metadata": {
        "id": "1RdHg1D1mQrB"
      }
    },
    {
      "cell_type": "code",
      "source": [
        "#To Find only the documents where the \"Name\" field starts with the letter \"A\"\n",
        "#use the regular expression {\"$regex\":\"^S\"}"
      ],
      "metadata": {
        "id": "OEkA433vmHkl"
      },
      "execution_count": null,
      "outputs": []
    },
    {
      "cell_type": "code",
      "source": [
        "query = {\"Name\":{\"$regex\":\"^A\"}}\n",
        "mydoc = books.find(query)"
      ],
      "metadata": {
        "id": "vpKhI4Xkmxky"
      },
      "execution_count": null,
      "outputs": []
    },
    {
      "cell_type": "code",
      "source": [
        "for x in mydoc:\n",
        "  print(x)"
      ],
      "metadata": {
        "colab": {
          "base_uri": "https://localhost:8080/"
        },
        "id": "2b1491xEm_Mt",
        "outputId": "81b41010-0098-47b3-ce78-a310029f23e3"
      },
      "execution_count": null,
      "outputs": [
        {
          "output_type": "stream",
          "name": "stdout",
          "text": [
            "{'_id': ObjectId('63d5e949d82bf7b01ba50277'), 'Writer': 'Poulo Coelho', 'Name': 'Alchemist', 'Price': 231}\n",
            "{'_id': ObjectId('63d5e949d82bf7b01ba50278'), 'Writer': 'Poulo Coelho', 'Name': 'Aleph', 'Price': 356}\n"
          ]
        }
      ]
    },
    {
      "cell_type": "markdown",
      "source": [
        "#Python MongoDB Sort"
      ],
      "metadata": {
        "id": "KAoyOn50nIjm"
      }
    },
    {
      "cell_type": "code",
      "source": [
        "more_books = [\n",
        "    {\"Writer\":\"Sidney Sheldon\",\"Name\":\"The Doomsday Conspiracy\",\"Price\":223},\n",
        "    {\"Writer\":\"Sidney Sheldon\",\"Name\":\"Windmills of Gods\",\"Price\":231},\n",
        "    {\"Writer\":\"Sidney Sheldon\",\"Name\":\"Minutes till midnight\",\"Price\":566},\n",
        "    {\"Writer\":\"Sidney Sheldon\",\"Name\":\"Sands of time\",\"Price\":926},\n",
        "    {\"Writer\":\"John le Carré\",\"Name\":\"Tinker Tailor Soilder Spy\",\"Price\":789},\n",
        "    {\"Writer\":\"John le Carré\",\"Name\":\"Call for the dead\",\"Price\":589},\n",
        "    {\"Writer\":\"John le Carré\",\"Name\":\"Our Game\",\"Price\":759},\n",
        "    {\"Writer\":\"John le Carré\",\"Name\":\"Silverview\",\"Price\":689},\n",
        "    {\"Writer\":\"John le Carré\",\"Name\":\"The Night Manager\",\"Price\":289},\n",
        "     ]"
      ],
      "metadata": {
        "id": "osg7lPMjnB8p"
      },
      "execution_count": null,
      "outputs": []
    },
    {
      "cell_type": "code",
      "source": [
        "books.insert_many(more_books)"
      ],
      "metadata": {
        "colab": {
          "base_uri": "https://localhost:8080/"
        },
        "id": "f1ZhJnhgo4uV",
        "outputId": "5946aa4d-8286-46d0-963a-6c1394138044"
      },
      "execution_count": null,
      "outputs": [
        {
          "output_type": "execute_result",
          "data": {
            "text/plain": [
              "<pymongo.results.InsertManyResult at 0x7f047dbb3730>"
            ]
          },
          "metadata": {},
          "execution_count": 44
        }
      ]
    },
    {
      "cell_type": "code",
      "source": [
        "mydoc = books.find().sort(\"Price\")"
      ],
      "metadata": {
        "id": "FFrYZNYupOUC"
      },
      "execution_count": null,
      "outputs": []
    },
    {
      "cell_type": "code",
      "source": [
        "for x in mydoc:\n",
        "  print(x)"
      ],
      "metadata": {
        "id": "DuBI1CRBpcVk"
      },
      "execution_count": null,
      "outputs": []
    },
    {
      "cell_type": "code",
      "source": [
        "for x in books.find().sort(\"Writer\"):\n",
        "  print(x)"
      ],
      "metadata": {
        "colab": {
          "base_uri": "https://localhost:8080/"
        },
        "id": "hP0jWAQ8pe0V",
        "outputId": "43884a60-03b4-4faa-aec6-12de653b96d0"
      },
      "execution_count": null,
      "outputs": [
        {
          "output_type": "stream",
          "name": "stdout",
          "text": [
            "{'_id': ObjectId('63d5ef8bd82bf7b01ba50287'), 'Writer': 'John le Carré', 'Name': 'Tinker Tailor Soilder Spy', 'Price': 789}\n",
            "{'_id': ObjectId('63d5ef8bd82bf7b01ba50288'), 'Writer': 'John le Carré', 'Name': 'Call for the dead', 'Price': 589}\n",
            "{'_id': ObjectId('63d5ef8bd82bf7b01ba50289'), 'Writer': 'John le Carré', 'Name': 'Our Game', 'Price': 759}\n",
            "{'_id': ObjectId('63d5ef8bd82bf7b01ba5028a'), 'Writer': 'John le Carré', 'Name': 'Silverview', 'Price': 689}\n",
            "{'_id': ObjectId('63d5ef8bd82bf7b01ba5028b'), 'Writer': 'John le Carré', 'Name': 'The Night Manager', 'Price': 289}\n",
            "{'_id': ObjectId('63d5ef8bd82bf7b01ba50283'), 'Writer': 'Sidney Sheldon', 'Name': 'The Doomsday Conspiracy', 'Price': 223}\n",
            "{'_id': ObjectId('63d5ef8bd82bf7b01ba50284'), 'Writer': 'Sidney Sheldon', 'Name': 'Windmills of Gods', 'Price': 231}\n",
            "{'_id': ObjectId('63d5ef8bd82bf7b01ba50285'), 'Writer': 'Sidney Sheldon', 'Name': 'Minutes till midnight', 'Price': 566}\n",
            "{'_id': ObjectId('63d5ef8bd82bf7b01ba50286'), 'Writer': 'Sidney Sheldon', 'Name': 'Sands of time', 'Price': 926}\n"
          ]
        }
      ]
    },
    {
      "cell_type": "code",
      "source": [
        "#Sort Descending\n",
        "for x in books.find().sort(\"Writer\",-1):\n",
        "  print(x)"
      ],
      "metadata": {
        "colab": {
          "base_uri": "https://localhost:8080/"
        },
        "id": "Juv-blrFpssC",
        "outputId": "108221dc-3d2a-47a5-8e37-8c629768395d"
      },
      "execution_count": null,
      "outputs": [
        {
          "output_type": "stream",
          "name": "stdout",
          "text": [
            "{'_id': ObjectId('63d5ef8bd82bf7b01ba50283'), 'Writer': 'Sidney Sheldon', 'Name': 'The Doomsday Conspiracy', 'Price': 223}\n",
            "{'_id': ObjectId('63d5ef8bd82bf7b01ba50284'), 'Writer': 'Sidney Sheldon', 'Name': 'Windmills of Gods', 'Price': 231}\n",
            "{'_id': ObjectId('63d5ef8bd82bf7b01ba50285'), 'Writer': 'Sidney Sheldon', 'Name': 'Minutes till midnight', 'Price': 566}\n",
            "{'_id': ObjectId('63d5ef8bd82bf7b01ba50286'), 'Writer': 'Sidney Sheldon', 'Name': 'Sands of time', 'Price': 926}\n",
            "{'_id': ObjectId('63d5ef8bd82bf7b01ba50287'), 'Writer': 'John le Carré', 'Name': 'Tinker Tailor Soilder Spy', 'Price': 789}\n",
            "{'_id': ObjectId('63d5ef8bd82bf7b01ba50288'), 'Writer': 'John le Carré', 'Name': 'Call for the dead', 'Price': 589}\n",
            "{'_id': ObjectId('63d5ef8bd82bf7b01ba50289'), 'Writer': 'John le Carré', 'Name': 'Our Game', 'Price': 759}\n",
            "{'_id': ObjectId('63d5ef8bd82bf7b01ba5028a'), 'Writer': 'John le Carré', 'Name': 'Silverview', 'Price': 689}\n",
            "{'_id': ObjectId('63d5ef8bd82bf7b01ba5028b'), 'Writer': 'John le Carré', 'Name': 'The Night Manager', 'Price': 289}\n"
          ]
        }
      ]
    },
    {
      "cell_type": "code",
      "source": [
        "#Sort Descending\n",
        "for x in books.find().sort(\"Name\",-1):\n",
        "  print(x)"
      ],
      "metadata": {
        "colab": {
          "base_uri": "https://localhost:8080/"
        },
        "id": "syC2k6Nip3fV",
        "outputId": "89fc651f-0e81-459c-a355-9f0a2af45e45"
      },
      "execution_count": null,
      "outputs": [
        {
          "output_type": "stream",
          "name": "stdout",
          "text": [
            "{'_id': ObjectId('63d5e949d82bf7b01ba50276'), 'Writer': 'Poulo Coelho', 'Name': 'Zahir', 'Price': 123}\n",
            "{'_id': ObjectId('63d5ec88d82bf7b01ba5027b'), 'Writer': 'Sidney Sheldon', 'Name': 'Windmills of Gods', 'Price': 231}\n",
            "{'_id': ObjectId('63d5ec88d82bf7b01ba5027e'), 'Writer': 'John le Carré', 'Name': 'Tinker Tailor Soilder Spy', 'Price': 789}\n",
            "{'_id': ObjectId('63d5ec88d82bf7b01ba50282'), 'Writer': 'John le Carré', 'Name': 'The Night Manager', 'Price': 289}\n",
            "{'_id': ObjectId('63d5ec88d82bf7b01ba5027a'), 'Writer': 'Sidney Sheldon', 'Name': 'The Doomsday Conspiracy', 'Price': 223}\n",
            "{'_id': ObjectId('63d5ec88d82bf7b01ba50281'), 'Writer': 'John le Carré', 'Name': 'Silverview', 'Price': 689}\n",
            "{'_id': ObjectId('63d5ec88d82bf7b01ba5027d'), 'Writer': 'Sidney Sheldon', 'Name': 'Sands of time', 'Price': 926}\n",
            "{'_id': ObjectId('63d5ec88d82bf7b01ba50280'), 'Writer': 'John le Carré', 'Name': 'Our Game', 'Price': 759}\n",
            "{'_id': ObjectId('63d5ec88d82bf7b01ba5027c'), 'Writer': 'Sidney Sheldon', 'Name': 'Minutes till midnight', 'Price': 566}\n",
            "{'_id': ObjectId('63d5ec88d82bf7b01ba5027f'), 'Writer': 'John le Carré', 'Name': 'Call for the dead', 'Price': 589}\n",
            "{'_id': ObjectId('63d5e949d82bf7b01ba50279'), 'Writer': 'Poulo Coelho', 'Name': 'Brida', 'Price': 896}\n",
            "{'_id': ObjectId('63d5e949d82bf7b01ba50278'), 'Writer': 'Poulo Coelho', 'Name': 'Aleph', 'Price': 356}\n",
            "{'_id': ObjectId('63d5e949d82bf7b01ba50277'), 'Writer': 'Poulo Coelho', 'Name': 'Alchemist', 'Price': 231}\n"
          ]
        }
      ]
    },
    {
      "cell_type": "markdown",
      "source": [
        "#Delete"
      ],
      "metadata": {
        "id": "JamBXJRKqF66"
      }
    },
    {
      "cell_type": "code",
      "source": [
        "books.delete_one({\"Name\":\"Alchemist\"})"
      ],
      "metadata": {
        "colab": {
          "base_uri": "https://localhost:8080/"
        },
        "id": "SrMkHxFPp-Sx",
        "outputId": "0ac205c8-f944-4854-d1e5-591f72e1b5e1"
      },
      "execution_count": null,
      "outputs": [
        {
          "output_type": "execute_result",
          "data": {
            "text/plain": [
              "<pymongo.results.DeleteResult at 0x7f047dbb3670>"
            ]
          },
          "metadata": {},
          "execution_count": 48
        }
      ]
    },
    {
      "cell_type": "code",
      "source": [
        "books"
      ],
      "metadata": {
        "colab": {
          "base_uri": "https://localhost:8080/"
        },
        "id": "9KvOgTBGqkHd",
        "outputId": "8e55ea0a-3585-4f3f-c35b-c283d9227a3f"
      },
      "execution_count": null,
      "outputs": [
        {
          "output_type": "execute_result",
          "data": {
            "text/plain": [
              "Collection(Database(MongoClient(host=['localhost:27017'], document_class=dict, tz_aware=False, connect=True), 'MyDatabase'), 'Books')"
            ]
          },
          "metadata": {},
          "execution_count": 33
        }
      ]
    },
    {
      "cell_type": "code",
      "source": [
        "for x in books.find():\n",
        "  print(x)"
      ],
      "metadata": {
        "colab": {
          "base_uri": "https://localhost:8080/"
        },
        "id": "ZyyWUczSqnxp",
        "outputId": "ac4ce7fd-3358-45c1-8314-85829360cddc"
      },
      "execution_count": null,
      "outputs": [
        {
          "output_type": "stream",
          "name": "stdout",
          "text": [
            "{'_id': ObjectId('63d5ef8bd82bf7b01ba50283'), 'Writer': 'Sidney Sheldon', 'Name': 'The Doomsday Conspiracy', 'Price': 223}\n",
            "{'_id': ObjectId('63d5ef8bd82bf7b01ba50284'), 'Writer': 'Sidney Sheldon', 'Name': 'Windmills of Gods', 'Price': 231}\n",
            "{'_id': ObjectId('63d5ef8bd82bf7b01ba50285'), 'Writer': 'Sidney Sheldon', 'Name': 'Minutes till midnight', 'Price': 566}\n",
            "{'_id': ObjectId('63d5ef8bd82bf7b01ba50286'), 'Writer': 'Sidney Sheldon', 'Name': 'Sands of time', 'Price': 926}\n",
            "{'_id': ObjectId('63d5ef8bd82bf7b01ba50287'), 'Writer': 'John le Carré', 'Name': 'Tinker Tailor Soilder Spy', 'Price': 789}\n",
            "{'_id': ObjectId('63d5ef8bd82bf7b01ba50288'), 'Writer': 'John le Carré', 'Name': 'Call for the dead', 'Price': 589}\n",
            "{'_id': ObjectId('63d5ef8bd82bf7b01ba50289'), 'Writer': 'John le Carré', 'Name': 'Our Game', 'Price': 759}\n",
            "{'_id': ObjectId('63d5ef8bd82bf7b01ba5028a'), 'Writer': 'John le Carré', 'Name': 'Silverview', 'Price': 689}\n",
            "{'_id': ObjectId('63d5ef8bd82bf7b01ba5028b'), 'Writer': 'John le Carré', 'Name': 'The Night Manager', 'Price': 289}\n"
          ]
        }
      ]
    },
    {
      "cell_type": "code",
      "source": [
        "#Delete Many Documents"
      ],
      "metadata": {
        "id": "L9kPT4Ohqq_5"
      },
      "execution_count": null,
      "outputs": []
    },
    {
      "cell_type": "code",
      "source": [
        "#Deleting every books starting with \"T\""
      ],
      "metadata": {
        "id": "rAS1cD9Goz0a"
      },
      "execution_count": null,
      "outputs": []
    },
    {
      "cell_type": "code",
      "source": [
        "query = {\"Name\":{\"$regex\":\"^T\"}}"
      ],
      "metadata": {
        "id": "dDqCLD10TCUP"
      },
      "execution_count": null,
      "outputs": []
    },
    {
      "cell_type": "code",
      "source": [
        "x = books.delete_many(query)\n",
        "print(x.deleted_count,\"Documents deleted\")"
      ],
      "metadata": {
        "colab": {
          "base_uri": "https://localhost:8080/"
        },
        "id": "zZTgtiQYrRlJ",
        "outputId": "7ed817e5-1d45-4d19-f5c3-c555e701b68c"
      },
      "execution_count": null,
      "outputs": [
        {
          "output_type": "stream",
          "name": "stdout",
          "text": [
            "3 Documents deleted\n"
          ]
        }
      ]
    },
    {
      "cell_type": "code",
      "source": [
        "#Delete all documents in a collection\n",
        "x = books.delete_many({})\n",
        "print(x.deleted_count,\"Documents deleted\")"
      ],
      "metadata": {
        "colab": {
          "base_uri": "https://localhost:8080/"
        },
        "id": "ELmKCbGFrdk1",
        "outputId": "c19254ff-9ec4-4c7a-b6ef-f817af10522f"
      },
      "execution_count": null,
      "outputs": [
        {
          "output_type": "stream",
          "name": "stdout",
          "text": [
            "6 Documents deleted\n"
          ]
        }
      ]
    },
    {
      "cell_type": "markdown",
      "source": [
        "#Delete collections"
      ],
      "metadata": {
        "id": "Raht0bdQsOZz"
      }
    },
    {
      "cell_type": "code",
      "source": [
        "books.drop()"
      ],
      "metadata": {
        "id": "mVsPUwaJrq3L"
      },
      "execution_count": null,
      "outputs": []
    },
    {
      "cell_type": "code",
      "source": [
        "client.list_database_names()"
      ],
      "metadata": {
        "colab": {
          "base_uri": "https://localhost:8080/"
        },
        "id": "bjT1HxKBsShE",
        "outputId": "d25a7929-dfe9-4485-a6ed-0203cbbd4c1c"
      },
      "execution_count": null,
      "outputs": [
        {
          "output_type": "execute_result",
          "data": {
            "text/plain": [
              "['admin', 'config', 'local']"
            ]
          },
          "metadata": {},
          "execution_count": 54
        }
      ]
    },
    {
      "cell_type": "code",
      "source": [
        "new_books = mydb[\"New_Books\"]"
      ],
      "metadata": {
        "id": "QCXcgG7yscKU"
      },
      "execution_count": null,
      "outputs": []
    },
    {
      "cell_type": "code",
      "source": [
        "client.list_database_names()"
      ],
      "metadata": {
        "colab": {
          "base_uri": "https://localhost:8080/"
        },
        "id": "zMDHyN6Ls8D8",
        "outputId": "27864be5-d1a0-4fea-aeb7-3924b9e8ceec"
      },
      "execution_count": null,
      "outputs": [
        {
          "output_type": "execute_result",
          "data": {
            "text/plain": [
              "['admin', 'config', 'local']"
            ]
          },
          "metadata": {},
          "execution_count": 56
        }
      ]
    },
    {
      "cell_type": "code",
      "source": [
        "more_books = [\n",
        "    {\"Writer\":\"Sidney Sheldon\",\"Name\":\"The Doomsday Conspiracy\",\"Price\":223},\n",
        "    {\"Writer\":\"Sidney Sheldon\",\"Name\":\"Windmills of Gods\",\"Price\":231},\n",
        "    {\"Writer\":\"Sidney Sheldon\",\"Name\":\"Minutes till midnight\",\"Price\":566},\n",
        "    {\"Writer\":\"Sidney Sheldon\",\"Name\":\"Sands of time\",\"Price\":926},\n",
        "    {\"Writer\":\"John le Carré\",\"Name\":\"Tinker Tailor Soilder Spy\",\"Price\":789},\n",
        "    {\"Writer\":\"John le Carré\",\"Name\":\"Call for the dead\",\"Price\":589},\n",
        "    {\"Writer\":\"John le Carré\",\"Name\":\"Our Game\",\"Price\":759},\n",
        "    {\"Writer\":\"John le Carré\",\"Name\":\"Silverview\",\"Price\":689},\n",
        "    {\"Writer\":\"John le Carré\",\"Name\":\"The Night Manager\",\"Price\":289},\n",
        "     ]"
      ],
      "metadata": {
        "id": "ckjGzUWAs-H0"
      },
      "execution_count": null,
      "outputs": []
    },
    {
      "cell_type": "code",
      "source": [
        "new_books.insert_many(more_books)"
      ],
      "metadata": {
        "colab": {
          "base_uri": "https://localhost:8080/"
        },
        "id": "7YU9M6uNtTzp",
        "outputId": "4314d722-6d65-4bac-dbe3-5dccb6655d80"
      },
      "execution_count": null,
      "outputs": [
        {
          "output_type": "execute_result",
          "data": {
            "text/plain": [
              "<pymongo.results.InsertManyResult at 0x7f0481409850>"
            ]
          },
          "metadata": {},
          "execution_count": 60
        }
      ]
    },
    {
      "cell_type": "code",
      "source": [
        "client.list_database_names()"
      ],
      "metadata": {
        "colab": {
          "base_uri": "https://localhost:8080/"
        },
        "id": "a2p6y5vNt6j-",
        "outputId": "d9da91f8-6665-4622-c7de-7c20e79223ac"
      },
      "execution_count": null,
      "outputs": [
        {
          "output_type": "execute_result",
          "data": {
            "text/plain": [
              "['MyDatabase', 'admin', 'config', 'local']"
            ]
          },
          "metadata": {},
          "execution_count": 61
        }
      ]
    },
    {
      "cell_type": "code",
      "source": [
        "myquery = {\"Price\":689}\n",
        "newvalues = {\"$set\":{\"Price\":550}}"
      ],
      "metadata": {
        "id": "u3qxT1ngtaAB"
      },
      "execution_count": null,
      "outputs": []
    },
    {
      "cell_type": "code",
      "source": [
        "new_books.update_one(myquery,newvalues)"
      ],
      "metadata": {
        "colab": {
          "base_uri": "https://localhost:8080/"
        },
        "id": "GNb4bFzQtznt",
        "outputId": "539b9fff-d469-4523-8b06-b28a7b76e994"
      },
      "execution_count": null,
      "outputs": [
        {
          "output_type": "execute_result",
          "data": {
            "text/plain": [
              "<pymongo.results.UpdateResult at 0x7f047db0e580>"
            ]
          },
          "metadata": {},
          "execution_count": 63
        }
      ]
    },
    {
      "cell_type": "code",
      "source": [
        "for x in new_books.find():\n",
        "  print(x)"
      ],
      "metadata": {
        "colab": {
          "base_uri": "https://localhost:8080/"
        },
        "id": "msLz7rdNuFOS",
        "outputId": "1bf438bd-a896-4ffd-dab3-597a0bbade53"
      },
      "execution_count": null,
      "outputs": [
        {
          "output_type": "stream",
          "name": "stdout",
          "text": [
            "{'_id': ObjectId('63d5f10fd82bf7b01ba5028c'), 'Writer': 'Sidney Sheldon', 'Name': 'The Doomsday Conspiracy', 'Price': 223}\n",
            "{'_id': ObjectId('63d5f10fd82bf7b01ba5028d'), 'Writer': 'Sidney Sheldon', 'Name': 'Windmills of Gods', 'Price': 231}\n",
            "{'_id': ObjectId('63d5f10fd82bf7b01ba5028e'), 'Writer': 'Sidney Sheldon', 'Name': 'Minutes till midnight', 'Price': 566}\n",
            "{'_id': ObjectId('63d5f10fd82bf7b01ba5028f'), 'Writer': 'Sidney Sheldon', 'Name': 'Sands of time', 'Price': 926}\n",
            "{'_id': ObjectId('63d5f10fd82bf7b01ba50290'), 'Writer': 'John le Carré', 'Name': 'Tinker Tailor Soilder Spy', 'Price': 789}\n",
            "{'_id': ObjectId('63d5f10fd82bf7b01ba50291'), 'Writer': 'John le Carré', 'Name': 'Call for the dead', 'Price': 589}\n",
            "{'_id': ObjectId('63d5f10fd82bf7b01ba50292'), 'Writer': 'John le Carré', 'Name': 'Our Game', 'Price': 759}\n",
            "{'_id': ObjectId('63d5f10fd82bf7b01ba50293'), 'Writer': 'John le Carré', 'Name': 'Silverview', 'Price': 550}\n",
            "{'_id': ObjectId('63d5f10fd82bf7b01ba50294'), 'Writer': 'John le Carré', 'Name': 'The Night Manager', 'Price': 289}\n"
          ]
        }
      ]
    },
    {
      "cell_type": "code",
      "source": [
        "#Update many\n",
        "myquery = {\"Price\":{\"$lt\":300}}\n",
        "newPrice = {\"$set\":{\"Price\":500}}\n",
        "x = new_books.update_many(myquery,newPrice)"
      ],
      "metadata": {
        "id": "5tNFoBODuJ42"
      },
      "execution_count": null,
      "outputs": []
    },
    {
      "cell_type": "code",
      "source": [
        "print(x.modified_count,\"Documents updated\")"
      ],
      "metadata": {
        "colab": {
          "base_uri": "https://localhost:8080/"
        },
        "id": "I7VnNpxevMkq",
        "outputId": "3d0e7e0e-b231-4288-d7a4-3aea30c66432"
      },
      "execution_count": null,
      "outputs": [
        {
          "output_type": "stream",
          "name": "stdout",
          "text": [
            "3 Documents updated\n"
          ]
        }
      ]
    },
    {
      "cell_type": "markdown",
      "source": [
        "#Python MongoDB Limit"
      ],
      "metadata": {
        "id": "N3tsdBuUv7qn"
      }
    },
    {
      "cell_type": "code",
      "source": [
        "books = mydb['Books']"
      ],
      "metadata": {
        "id": "1RKUahquP-xB"
      },
      "execution_count": null,
      "outputs": []
    },
    {
      "cell_type": "code",
      "source": [
        "more_books = [\n",
        "    {\"Writer\":\"Sidney Sheldon\",\"Name\":\"The Doomsday Conspiracy\",\"Price\":223},\n",
        "    {\"Writer\":\"Sidney Sheldon\",\"Name\":\"Windmills of Gods\",\"Price\":231},\n",
        "    {\"Writer\":\"Sidney Sheldon\",\"Name\":\"Minutes till midnight\",\"Price\":566},\n",
        "    {\"Writer\":\"Sidney Sheldon\",\"Name\":\"Sands of time\",\"Price\":926},\n",
        "    {\"Writer\":\"John le Carré\",\"Name\":\"Tinker Tailor Soilder Spy\",\"Price\":789},\n",
        "    {\"Writer\":\"John le Carré\",\"Name\":\"Call for the dead\",\"Price\":589},\n",
        "    {\"Writer\":\"John le Carré\",\"Name\":\"Our Game\",\"Price\":759},\n",
        "    {\"Writer\":\"John le Carré\",\"Name\":\"Silverview\",\"Price\":689},\n",
        "    {\"Writer\":\"John le Carré\",\"Name\":\"The Night Manager\",\"Price\":289},\n",
        "     ]"
      ],
      "metadata": {
        "id": "FpNmfARSQCPr"
      },
      "execution_count": null,
      "outputs": []
    },
    {
      "cell_type": "code",
      "source": [
        "self_help_books = [\n",
        "    {\"Writer\":\"Jan Yager\",\"Name\":\"How to finish everything you start\",\"Price\":523},\n",
        "    {\"Writer\":\"Cal Newport\",\"Name\":\"Deep Work\",\"Price\":893},\n",
        "    {\"Writer\":\"Peter Hollins\",\"Name\":\"Finish what you start\",\"Price\":1523},\n",
        "    {\"Writer\":\"Chris Bailey\",\"Name\":\"The Productivity Project\",\"Price\":5123},\n",
        "    {\"Writer\":\"Hyatt\",\"Name\":\"Free to Focus\",\"Price\":273},\n",
        "    {\"Writer\":\"Schultz\",\"Name\":\"Not Today\",\"Price\":321},\n",
        "    {\"Writer\":\"Guillebeau\",\"Name\":\"Side Hustle\",\"Price\":389}\n",
        "    \n",
        "]"
      ],
      "metadata": {
        "id": "5gY1JG0VvY1j"
      },
      "execution_count": null,
      "outputs": []
    },
    {
      "cell_type": "code",
      "source": [
        "books.insert_many(more_books)\n",
        "books.insert_many(self_help_books)\n"
      ],
      "metadata": {
        "colab": {
          "base_uri": "https://localhost:8080/"
        },
        "id": "SnqPCZdZPEeq",
        "outputId": "e0dd2a90-0bc3-4187-f895-fc0d12b9f23e"
      },
      "execution_count": null,
      "outputs": [
        {
          "output_type": "execute_result",
          "data": {
            "text/plain": [
              "<pymongo.results.InsertManyResult at 0x7f68a9ec5fa0>"
            ]
          },
          "metadata": {},
          "execution_count": 13
        }
      ]
    },
    {
      "cell_type": "code",
      "source": [
        "for x in books.find():\n",
        "  print(x)"
      ],
      "metadata": {
        "colab": {
          "base_uri": "https://localhost:8080/"
        },
        "id": "v_hM8yoPQSJv",
        "outputId": "024a6ce8-9364-4a8a-92d1-8863796f8a4b"
      },
      "execution_count": null,
      "outputs": [
        {
          "output_type": "stream",
          "name": "stdout",
          "text": [
            "{'_id': ObjectId('63d614c64e0027b361c607e6'), 'Writer': 'Sidney Sheldon', 'Name': 'The Doomsday Conspiracy', 'Price': 223}\n",
            "{'_id': ObjectId('63d614c64e0027b361c607e7'), 'Writer': 'Sidney Sheldon', 'Name': 'Windmills of Gods', 'Price': 231}\n",
            "{'_id': ObjectId('63d614c64e0027b361c607e8'), 'Writer': 'Sidney Sheldon', 'Name': 'Minutes till midnight', 'Price': 566}\n",
            "{'_id': ObjectId('63d614c64e0027b361c607e9'), 'Writer': 'Sidney Sheldon', 'Name': 'Sands of time', 'Price': 926}\n",
            "{'_id': ObjectId('63d614c64e0027b361c607ea'), 'Writer': 'John le Carré', 'Name': 'Tinker Tailor Soilder Spy', 'Price': 789}\n",
            "{'_id': ObjectId('63d614c64e0027b361c607eb'), 'Writer': 'John le Carré', 'Name': 'Call for the dead', 'Price': 589}\n",
            "{'_id': ObjectId('63d614c64e0027b361c607ec'), 'Writer': 'John le Carré', 'Name': 'Our Game', 'Price': 759}\n",
            "{'_id': ObjectId('63d614c64e0027b361c607ed'), 'Writer': 'John le Carré', 'Name': 'Silverview', 'Price': 689}\n",
            "{'_id': ObjectId('63d614c64e0027b361c607ee'), 'Writer': 'John le Carré', 'Name': 'The Night Manager', 'Price': 289}\n",
            "{'_id': ObjectId('63d614c64e0027b361c607ef'), 'Writer': 'Jan Yager', 'Name': 'How to finish everything you start', 'Price': 523}\n",
            "{'_id': ObjectId('63d614c64e0027b361c607f0'), 'Writer': 'Cal Newport', 'Name': 'Deep Work', 'Price': 893}\n",
            "{'_id': ObjectId('63d614c64e0027b361c607f1'), 'Writer': 'Peter Hollins', 'Name': 'Finish what you start', 'Price': 1523}\n",
            "{'_id': ObjectId('63d614c64e0027b361c607f2'), 'Writer': 'Chris Bailey', 'Name': 'The Productivity Project', 'Price': 5123}\n",
            "{'_id': ObjectId('63d614c64e0027b361c607f3'), 'Writer': 'Hyatt', 'Name': 'Free to Focus', 'Price': 273}\n",
            "{'_id': ObjectId('63d614c64e0027b361c607f4'), 'Writer': 'Schultz', 'Name': 'Not Today', 'Price': 321}\n",
            "{'_id': ObjectId('63d614c64e0027b361c607f5'), 'Writer': 'Guillebeau', 'Name': 'Side Hustle', 'Price': 389}\n"
          ]
        }
      ]
    },
    {
      "cell_type": "code",
      "source": [
        "for x in books.find().limit(5):\n",
        "  print(x)"
      ],
      "metadata": {
        "colab": {
          "base_uri": "https://localhost:8080/"
        },
        "id": "WvQ7iew6QZIK",
        "outputId": "f0865fcc-540b-4191-f27e-eb12fbc43740"
      },
      "execution_count": null,
      "outputs": [
        {
          "output_type": "stream",
          "name": "stdout",
          "text": [
            "{'_id': ObjectId('63d614c64e0027b361c607e6'), 'Writer': 'Sidney Sheldon', 'Name': 'The Doomsday Conspiracy', 'Price': 223}\n",
            "{'_id': ObjectId('63d614c64e0027b361c607e7'), 'Writer': 'Sidney Sheldon', 'Name': 'Windmills of Gods', 'Price': 231}\n",
            "{'_id': ObjectId('63d614c64e0027b361c607e8'), 'Writer': 'Sidney Sheldon', 'Name': 'Minutes till midnight', 'Price': 566}\n",
            "{'_id': ObjectId('63d614c64e0027b361c607e9'), 'Writer': 'Sidney Sheldon', 'Name': 'Sands of time', 'Price': 926}\n",
            "{'_id': ObjectId('63d614c64e0027b361c607ea'), 'Writer': 'John le Carré', 'Name': 'Tinker Tailor Soilder Spy', 'Price': 789}\n"
          ]
        }
      ]
    },
    {
      "cell_type": "markdown",
      "source": [
        "#More Query"
      ],
      "metadata": {
        "id": "MO-3lQkjRTDC"
      }
    },
    {
      "cell_type": "code",
      "source": [
        "#Find all Sidney Sheldon that costs less than 200\n",
        "for x in books.find({\"Writer\":\"Sidney Sheldon\",\"Price\":{\"$lt\":500}}):\n",
        "  print(x)\n"
      ],
      "metadata": {
        "colab": {
          "base_uri": "https://localhost:8080/"
        },
        "id": "ejg4OCqURN1k",
        "outputId": "599cc363-45e1-42f7-9be9-f211344600f8"
      },
      "execution_count": null,
      "outputs": [
        {
          "output_type": "stream",
          "name": "stdout",
          "text": [
            "{'_id': ObjectId('63d614c64e0027b361c607e6'), 'Writer': 'Sidney Sheldon', 'Name': 'The Doomsday Conspiracy', 'Price': 223}\n",
            "{'_id': ObjectId('63d614c64e0027b361c607e7'), 'Writer': 'Sidney Sheldon', 'Name': 'Windmills of Gods', 'Price': 231}\n"
          ]
        }
      ]
    },
    {
      "cell_type": "code",
      "source": [
        "#Find all John le Carre books that starts with The\n",
        "for x in books.find({\"Writer\":\"John le Carré\",\"Name\":{\"$regex\":\"^The\"}}):\n",
        "  print(x)\n"
      ],
      "metadata": {
        "colab": {
          "base_uri": "https://localhost:8080/"
        },
        "id": "77oH59xNSNPY",
        "outputId": "554099f8-7cfb-4bf6-b779-3e2ab9336f5e"
      },
      "execution_count": null,
      "outputs": [
        {
          "output_type": "stream",
          "name": "stdout",
          "text": [
            "{'_id': ObjectId('63d614c64e0027b361c607ee'), 'Writer': 'John le Carré', 'Name': 'The Night Manager', 'Price': 289}\n"
          ]
        }
      ]
    },
    {
      "cell_type": "code",
      "source": [
        "#Find all John le Carre books that starts with \"The\" and print price only\n",
        "for x in books.find({\"Writer\":\"John le Carré\",\"Name\":{\"$regex\":\"^The\"}},{\"Price\":1}):\n",
        "  print(x)\n"
      ],
      "metadata": {
        "colab": {
          "base_uri": "https://localhost:8080/"
        },
        "id": "d5PjI6hiSIO0",
        "outputId": "7d96fb8a-f8d9-4395-c5cb-99fb06b0f66e"
      },
      "execution_count": null,
      "outputs": [
        {
          "output_type": "stream",
          "name": "stdout",
          "text": [
            "{'_id': ObjectId('63d614c64e0027b361c607ee'), 'Price': 289}\n"
          ]
        }
      ]
    },
    {
      "cell_type": "code",
      "source": [
        "#All books with the price greater than 600\n",
        "for x in books.find({\"Price\":{\"$gt\":600}}):\n",
        "  print(x)"
      ],
      "metadata": {
        "colab": {
          "base_uri": "https://localhost:8080/"
        },
        "id": "KShgc8eFVhoz",
        "outputId": "832f517d-02fe-42d2-8f05-6d20d447dc3a"
      },
      "execution_count": null,
      "outputs": [
        {
          "output_type": "stream",
          "name": "stdout",
          "text": [
            "{'_id': ObjectId('63d614c64e0027b361c607e9'), 'Writer': 'Sidney Sheldon', 'Name': 'Sands of time', 'Price': 926}\n",
            "{'_id': ObjectId('63d614c64e0027b361c607ea'), 'Writer': 'John le Carré', 'Name': 'Tinker Tailor Soilder Spy', 'Price': 789}\n",
            "{'_id': ObjectId('63d614c64e0027b361c607ec'), 'Writer': 'John le Carré', 'Name': 'Our Game', 'Price': 759}\n",
            "{'_id': ObjectId('63d614c64e0027b361c607ed'), 'Writer': 'John le Carré', 'Name': 'Silverview', 'Price': 689}\n",
            "{'_id': ObjectId('63d614c64e0027b361c607f0'), 'Writer': 'Cal Newport', 'Name': 'Deep Work', 'Price': 893}\n",
            "{'_id': ObjectId('63d614c64e0027b361c607f1'), 'Writer': 'Peter Hollins', 'Name': 'Finish what you start', 'Price': 1523}\n",
            "{'_id': ObjectId('63d614c64e0027b361c607f2'), 'Writer': 'Chris Bailey', 'Name': 'The Productivity Project', 'Price': 5123}\n"
          ]
        }
      ]
    },
    {
      "cell_type": "code",
      "source": [
        "#All books with the price greater than 600 but sort according to Name\n",
        "for x in books.find({\"Price\":{\"$gt\":600}}).sort(\"Name\"):\n",
        "  print(x)"
      ],
      "metadata": {
        "colab": {
          "base_uri": "https://localhost:8080/"
        },
        "id": "C5_Lu2FCWIwg",
        "outputId": "06ed290d-973e-4d77-914f-e77403a7bcd1"
      },
      "execution_count": null,
      "outputs": [
        {
          "output_type": "stream",
          "name": "stdout",
          "text": [
            "{'_id': ObjectId('63d614c64e0027b361c607f0'), 'Writer': 'Cal Newport', 'Name': 'Deep Work', 'Price': 893}\n",
            "{'_id': ObjectId('63d614c64e0027b361c607f1'), 'Writer': 'Peter Hollins', 'Name': 'Finish what you start', 'Price': 1523}\n",
            "{'_id': ObjectId('63d614c64e0027b361c607ec'), 'Writer': 'John le Carré', 'Name': 'Our Game', 'Price': 759}\n",
            "{'_id': ObjectId('63d614c64e0027b361c607e9'), 'Writer': 'Sidney Sheldon', 'Name': 'Sands of time', 'Price': 926}\n",
            "{'_id': ObjectId('63d614c64e0027b361c607ed'), 'Writer': 'John le Carré', 'Name': 'Silverview', 'Price': 689}\n",
            "{'_id': ObjectId('63d614c64e0027b361c607f2'), 'Writer': 'Chris Bailey', 'Name': 'The Productivity Project', 'Price': 5123}\n",
            "{'_id': ObjectId('63d614c64e0027b361c607ea'), 'Writer': 'John le Carré', 'Name': 'Tinker Tailor Soilder Spy', 'Price': 789}\n"
          ]
        }
      ]
    },
    {
      "cell_type": "code",
      "source": [
        "#All books with the price greater than 600 but sort according to Price\n",
        "for x in books.find({\"Price\":{\"$gt\":600}}).sort(\"Price\"):\n",
        "  print(x)"
      ],
      "metadata": {
        "colab": {
          "base_uri": "https://localhost:8080/"
        },
        "id": "pWk4QsqtX0Po",
        "outputId": "364d6cfe-e0ab-40c1-b6a9-22a0e8065c3b"
      },
      "execution_count": null,
      "outputs": [
        {
          "output_type": "stream",
          "name": "stdout",
          "text": [
            "{'_id': ObjectId('63d614c64e0027b361c607ed'), 'Writer': 'John le Carré', 'Name': 'Silverview', 'Price': 689}\n",
            "{'_id': ObjectId('63d614c64e0027b361c607ec'), 'Writer': 'John le Carré', 'Name': 'Our Game', 'Price': 759}\n",
            "{'_id': ObjectId('63d614c64e0027b361c607ea'), 'Writer': 'John le Carré', 'Name': 'Tinker Tailor Soilder Spy', 'Price': 789}\n",
            "{'_id': ObjectId('63d614c64e0027b361c607f0'), 'Writer': 'Cal Newport', 'Name': 'Deep Work', 'Price': 893}\n",
            "{'_id': ObjectId('63d614c64e0027b361c607e9'), 'Writer': 'Sidney Sheldon', 'Name': 'Sands of time', 'Price': 926}\n",
            "{'_id': ObjectId('63d614c64e0027b361c607f1'), 'Writer': 'Peter Hollins', 'Name': 'Finish what you start', 'Price': 1523}\n",
            "{'_id': ObjectId('63d614c64e0027b361c607f2'), 'Writer': 'Chris Bailey', 'Name': 'The Productivity Project', 'Price': 5123}\n"
          ]
        }
      ]
    },
    {
      "cell_type": "code",
      "source": [
        "#and\n",
        "result = books.find({\n",
        "    \"$and\":[\n",
        "        {\n",
        "            \"Writer\":\"Sidney Sheldon\"\n",
        "        },\n",
        "        {\n",
        "            \"Price\":{\"$gt\":500}\n",
        "        }\n",
        "    ]\n",
        "})"
      ],
      "metadata": {
        "id": "BibdDeYRl8j7"
      },
      "execution_count": null,
      "outputs": []
    },
    {
      "cell_type": "code",
      "source": [
        "for x in result:\n",
        "  print(x)"
      ],
      "metadata": {
        "colab": {
          "base_uri": "https://localhost:8080/"
        },
        "id": "2iRUvNIGmUGY",
        "outputId": "305d59a2-4c2f-4f88-f6f2-25709a7b1d62"
      },
      "execution_count": null,
      "outputs": [
        {
          "output_type": "stream",
          "name": "stdout",
          "text": [
            "{'_id': ObjectId('63d614c64e0027b361c607e8'), 'Writer': 'Sidney Sheldon', 'Name': 'Minutes till midnight', 'Price': 566}\n",
            "{'_id': ObjectId('63d614c64e0027b361c607e9'), 'Writer': 'Sidney Sheldon', 'Name': 'Sands of time', 'Price': 926}\n"
          ]
        }
      ]
    },
    {
      "cell_type": "code",
      "source": [
        "#or\n",
        "#and\n",
        "result = books.find({\n",
        "    \"$or\":[\n",
        "        {\n",
        "            \"Writer\":\"Sidney Sheldon\"\n",
        "        },\n",
        "        {\n",
        "            \"Price\":{\"$gt\":1000}\n",
        "        }\n",
        "    ]\n",
        "})\n"
      ],
      "metadata": {
        "id": "bFbXatXBmXJn"
      },
      "execution_count": null,
      "outputs": []
    },
    {
      "cell_type": "code",
      "source": [
        "for x in result:\n",
        "  print(x)"
      ],
      "metadata": {
        "colab": {
          "base_uri": "https://localhost:8080/"
        },
        "id": "jPZrJr51miZ7",
        "outputId": "e09e788d-6c3d-4824-f5bc-999f80da728b"
      },
      "execution_count": null,
      "outputs": [
        {
          "output_type": "stream",
          "name": "stdout",
          "text": [
            "{'_id': ObjectId('63d614c64e0027b361c607e6'), 'Writer': 'Sidney Sheldon', 'Name': 'The Doomsday Conspiracy', 'Price': 223}\n",
            "{'_id': ObjectId('63d614c64e0027b361c607e7'), 'Writer': 'Sidney Sheldon', 'Name': 'Windmills of Gods', 'Price': 231}\n",
            "{'_id': ObjectId('63d614c64e0027b361c607e8'), 'Writer': 'Sidney Sheldon', 'Name': 'Minutes till midnight', 'Price': 566}\n",
            "{'_id': ObjectId('63d614c64e0027b361c607e9'), 'Writer': 'Sidney Sheldon', 'Name': 'Sands of time', 'Price': 926}\n",
            "{'_id': ObjectId('63d614c64e0027b361c607f1'), 'Writer': 'Peter Hollins', 'Name': 'Finish what you start', 'Price': 1523}\n",
            "{'_id': ObjectId('63d614c64e0027b361c607f2'), 'Writer': 'Chris Bailey', 'Name': 'The Productivity Project', 'Price': 5123}\n"
          ]
        }
      ]
    },
    {
      "cell_type": "code",
      "source": [
        "#nor\n",
        "result = books.find({\n",
        "    \"$nor\":[\n",
        "        {\n",
        "            \"Writer\":\"Sidney Sheldon\"\n",
        "        },\n",
        "        {\n",
        "            \"Price\":{\"$gt\":1000}\n",
        "        }\n",
        "    ]\n",
        "})\n",
        "for x in result:\n",
        "  print(x)"
      ],
      "metadata": {
        "id": "yMZxmiq0mi2u"
      },
      "execution_count": null,
      "outputs": []
    },
    {
      "cell_type": "code",
      "source": [
        "#not\n",
        "for x in books.find( { \"Price\": { \"$not\": { \"$gt\": 599 } } } ):\n",
        "  print(x)"
      ],
      "metadata": {
        "colab": {
          "base_uri": "https://localhost:8080/"
        },
        "id": "6fojIe7Tmx88",
        "outputId": "d59110aa-0da5-4e8f-8515-6dbeef297448"
      },
      "execution_count": null,
      "outputs": [
        {
          "output_type": "stream",
          "name": "stdout",
          "text": [
            "{'_id': ObjectId('63d614c64e0027b361c607e6'), 'Writer': 'Sidney Sheldon', 'Name': 'The Doomsday Conspiracy', 'Price': 223}\n",
            "{'_id': ObjectId('63d614c64e0027b361c607e7'), 'Writer': 'Sidney Sheldon', 'Name': 'Windmills of Gods', 'Price': 231}\n",
            "{'_id': ObjectId('63d614c64e0027b361c607e8'), 'Writer': 'Sidney Sheldon', 'Name': 'Minutes till midnight', 'Price': 566}\n",
            "{'_id': ObjectId('63d614c64e0027b361c607eb'), 'Writer': 'John le Carré', 'Name': 'Call for the dead', 'Price': 589}\n",
            "{'_id': ObjectId('63d614c64e0027b361c607ee'), 'Writer': 'John le Carré', 'Name': 'The Night Manager', 'Price': 289}\n",
            "{'_id': ObjectId('63d614c64e0027b361c607ef'), 'Writer': 'Jan Yager', 'Name': 'How to finish everything you start', 'Price': 523}\n",
            "{'_id': ObjectId('63d614c64e0027b361c607f3'), 'Writer': 'Hyatt', 'Name': 'Free to Focus', 'Price': 273}\n",
            "{'_id': ObjectId('63d614c64e0027b361c607f4'), 'Writer': 'Schultz', 'Name': 'Not Today', 'Price': 321}\n",
            "{'_id': ObjectId('63d614c64e0027b361c607f5'), 'Writer': 'Guillebeau', 'Name': 'Side Hustle', 'Price': 389}\n"
          ]
        }
      ]
    },
    {
      "cell_type": "code",
      "source": [
        "#not\n",
        "for x in books.find( { \"Writer\": { \"$ne\": \"Sidney Sheldon\" } } ):\n",
        "  print(x)"
      ],
      "metadata": {
        "colab": {
          "base_uri": "https://localhost:8080/"
        },
        "id": "V8u13u5wn3At",
        "outputId": "b3c26489-4fa9-4bc3-a1d8-c83c17e1f38e"
      },
      "execution_count": null,
      "outputs": [
        {
          "output_type": "stream",
          "name": "stdout",
          "text": [
            "{'_id': ObjectId('63d614c64e0027b361c607ea'), 'Writer': 'John le Carré', 'Name': 'Tinker Tailor Soilder Spy', 'Price': 789}\n",
            "{'_id': ObjectId('63d614c64e0027b361c607eb'), 'Writer': 'John le Carré', 'Name': 'Call for the dead', 'Price': 589}\n",
            "{'_id': ObjectId('63d614c64e0027b361c607ec'), 'Writer': 'John le Carré', 'Name': 'Our Game', 'Price': 759}\n",
            "{'_id': ObjectId('63d614c64e0027b361c607ed'), 'Writer': 'John le Carré', 'Name': 'Silverview', 'Price': 689}\n",
            "{'_id': ObjectId('63d614c64e0027b361c607ee'), 'Writer': 'John le Carré', 'Name': 'The Night Manager', 'Price': 289}\n",
            "{'_id': ObjectId('63d614c64e0027b361c607ef'), 'Writer': 'Jan Yager', 'Name': 'How to finish everything you start', 'Price': 523}\n",
            "{'_id': ObjectId('63d614c64e0027b361c607f0'), 'Writer': 'Cal Newport', 'Name': 'Deep Work', 'Price': 893}\n",
            "{'_id': ObjectId('63d614c64e0027b361c607f1'), 'Writer': 'Peter Hollins', 'Name': 'Finish what you start', 'Price': 1523}\n",
            "{'_id': ObjectId('63d614c64e0027b361c607f2'), 'Writer': 'Chris Bailey', 'Name': 'The Productivity Project', 'Price': 5123}\n",
            "{'_id': ObjectId('63d614c64e0027b361c607f3'), 'Writer': 'Hyatt', 'Name': 'Free to Focus', 'Price': 273}\n",
            "{'_id': ObjectId('63d614c64e0027b361c607f4'), 'Writer': 'Schultz', 'Name': 'Not Today', 'Price': 321}\n",
            "{'_id': ObjectId('63d614c64e0027b361c607f5'), 'Writer': 'Guillebeau', 'Name': 'Side Hustle', 'Price': 389}\n"
          ]
        }
      ]
    },
    {
      "cell_type": "code",
      "source": [
        "#not in\n",
        "#nin\n",
        "for x in books.find( { \"Writer\": { \"$nin\": [\"Sidney Sheldon\"] } } ):\n",
        "  print(x)"
      ],
      "metadata": {
        "colab": {
          "base_uri": "https://localhost:8080/"
        },
        "id": "p4ILiRzPn5R8",
        "outputId": "7095f919-4da9-44e0-aa56-95f4cae57fee"
      },
      "execution_count": null,
      "outputs": [
        {
          "output_type": "stream",
          "name": "stdout",
          "text": [
            "{'_id': ObjectId('63d614c64e0027b361c607ea'), 'Writer': 'John le Carré', 'Name': 'Tinker Tailor Soilder Spy', 'Price': 789}\n",
            "{'_id': ObjectId('63d614c64e0027b361c607eb'), 'Writer': 'John le Carré', 'Name': 'Call for the dead', 'Price': 589}\n",
            "{'_id': ObjectId('63d614c64e0027b361c607ec'), 'Writer': 'John le Carré', 'Name': 'Our Game', 'Price': 759}\n",
            "{'_id': ObjectId('63d614c64e0027b361c607ed'), 'Writer': 'John le Carré', 'Name': 'Silverview', 'Price': 689}\n",
            "{'_id': ObjectId('63d614c64e0027b361c607ee'), 'Writer': 'John le Carré', 'Name': 'The Night Manager', 'Price': 289}\n",
            "{'_id': ObjectId('63d614c64e0027b361c607ef'), 'Writer': 'Jan Yager', 'Name': 'How to finish everything you start', 'Price': 523}\n",
            "{'_id': ObjectId('63d614c64e0027b361c607f0'), 'Writer': 'Cal Newport', 'Name': 'Deep Work', 'Price': 893}\n",
            "{'_id': ObjectId('63d614c64e0027b361c607f1'), 'Writer': 'Peter Hollins', 'Name': 'Finish what you start', 'Price': 1523}\n",
            "{'_id': ObjectId('63d614c64e0027b361c607f2'), 'Writer': 'Chris Bailey', 'Name': 'The Productivity Project', 'Price': 5123}\n",
            "{'_id': ObjectId('63d614c64e0027b361c607f3'), 'Writer': 'Hyatt', 'Name': 'Free to Focus', 'Price': 273}\n",
            "{'_id': ObjectId('63d614c64e0027b361c607f4'), 'Writer': 'Schultz', 'Name': 'Not Today', 'Price': 321}\n",
            "{'_id': ObjectId('63d614c64e0027b361c607f5'), 'Writer': 'Guillebeau', 'Name': 'Side Hustle', 'Price': 389}\n"
          ]
        }
      ]
    },
    {
      "cell_type": "code",
      "source": [
        "#not in\n",
        "#nin\n",
        "for x in books.find( { \"Writer\": { \"$nin\": [\"Sidney Sheldon\",\"Jan Yager\"] } } ):\n",
        "  print(x)"
      ],
      "metadata": {
        "colab": {
          "base_uri": "https://localhost:8080/"
        },
        "id": "vVQUoTGXpu0o",
        "outputId": "460d54d4-bbeb-406a-9c5f-d17967be0e22"
      },
      "execution_count": null,
      "outputs": [
        {
          "output_type": "stream",
          "name": "stdout",
          "text": [
            "{'_id': ObjectId('63d614c64e0027b361c607ea'), 'Writer': 'John le Carré', 'Name': 'Tinker Tailor Soilder Spy', 'Price': 789}\n",
            "{'_id': ObjectId('63d614c64e0027b361c607eb'), 'Writer': 'John le Carré', 'Name': 'Call for the dead', 'Price': 589}\n",
            "{'_id': ObjectId('63d614c64e0027b361c607ec'), 'Writer': 'John le Carré', 'Name': 'Our Game', 'Price': 759}\n",
            "{'_id': ObjectId('63d614c64e0027b361c607ed'), 'Writer': 'John le Carré', 'Name': 'Silverview', 'Price': 689}\n",
            "{'_id': ObjectId('63d614c64e0027b361c607ee'), 'Writer': 'John le Carré', 'Name': 'The Night Manager', 'Price': 289}\n",
            "{'_id': ObjectId('63d614c64e0027b361c607f0'), 'Writer': 'Cal Newport', 'Name': 'Deep Work', 'Price': 893}\n",
            "{'_id': ObjectId('63d614c64e0027b361c607f1'), 'Writer': 'Peter Hollins', 'Name': 'Finish what you start', 'Price': 1523}\n",
            "{'_id': ObjectId('63d614c64e0027b361c607f2'), 'Writer': 'Chris Bailey', 'Name': 'The Productivity Project', 'Price': 5123}\n",
            "{'_id': ObjectId('63d614c64e0027b361c607f3'), 'Writer': 'Hyatt', 'Name': 'Free to Focus', 'Price': 273}\n",
            "{'_id': ObjectId('63d614c64e0027b361c607f4'), 'Writer': 'Schultz', 'Name': 'Not Today', 'Price': 321}\n",
            "{'_id': ObjectId('63d614c64e0027b361c607f5'), 'Writer': 'Guillebeau', 'Name': 'Side Hustle', 'Price': 389}\n"
          ]
        }
      ]
    },
    {
      "cell_type": "code",
      "source": [],
      "metadata": {
        "id": "b7eV-f8dp9k_"
      },
      "execution_count": null,
      "outputs": []
    },
    {
      "cell_type": "markdown",
      "source": [
        "#Counting"
      ],
      "metadata": {
        "id": "vCZl96HtYjGh"
      }
    },
    {
      "cell_type": "code",
      "source": [
        "books.count_documents({})"
      ],
      "metadata": {
        "colab": {
          "base_uri": "https://localhost:8080/"
        },
        "id": "QgD0yKr1SGDn",
        "outputId": "5a3d47a9-728a-4da4-8c8c-f940c28cf8bc"
      },
      "execution_count": null,
      "outputs": [
        {
          "output_type": "execute_result",
          "data": {
            "text/plain": [
              "16"
            ]
          },
          "metadata": {},
          "execution_count": 42
        }
      ]
    },
    {
      "cell_type": "code",
      "source": [
        "books.count_documents({\"Writer\":\"Sidney Sheldon\"})"
      ],
      "metadata": {
        "colab": {
          "base_uri": "https://localhost:8080/"
        },
        "id": "Hx757kjlYnt2",
        "outputId": "80889516-3c3b-4f78-b2c7-33579d3bf4bb"
      },
      "execution_count": null,
      "outputs": [
        {
          "output_type": "execute_result",
          "data": {
            "text/plain": [
              "4"
            ]
          },
          "metadata": {},
          "execution_count": 43
        }
      ]
    },
    {
      "cell_type": "code",
      "source": [
        "books.count_documents({\"Writer\":\"Sidney Sheldon\",\"Price\":{\"$gt\":600}})"
      ],
      "metadata": {
        "colab": {
          "base_uri": "https://localhost:8080/"
        },
        "id": "-VxE5IMXYxms",
        "outputId": "681e110f-c1b2-4087-befa-9a5ccb027246"
      },
      "execution_count": null,
      "outputs": [
        {
          "output_type": "execute_result",
          "data": {
            "text/plain": [
              "1"
            ]
          },
          "metadata": {},
          "execution_count": 44
        }
      ]
    },
    {
      "cell_type": "markdown",
      "source": [
        "#Aggregation Example"
      ],
      "metadata": {
        "id": "uBRY0WNJcJSG"
      }
    },
    {
      "cell_type": "code",
      "source": [
        "from pymongo import MongoClient"
      ],
      "metadata": {
        "id": "96nvksS0Y6oV"
      },
      "execution_count": null,
      "outputs": []
    },
    {
      "cell_type": "code",
      "source": [
        "db = MongoClient().aggregation_example"
      ],
      "metadata": {
        "id": "lZLzXZzZcP0C"
      },
      "execution_count": null,
      "outputs": []
    },
    {
      "cell_type": "code",
      "source": [
        "list_of_things = [{\"x\":1,\"tags\":[\"Dog\",\"Car\",\"Elephant\",\"Ball\",\"Banana\"]},\n",
        "                  {\"x\":2,\"tags\":[\"Dog\",\"Cat\",\"Tiger\",\"Banana\"]},\n",
        "                  {\"x\":3,\"tags\":[\"Banana\"]},\n",
        "                  {\"x\":4,\"tags\":[\"Elephant\",\"Tiger\",\"Banana\"]},\n",
        "                  {\"x\":5,\"tags\":[\"Apple\",\"Banana\"]},\n",
        "                  {\"x\":6,\"tags\":[]},]"
      ],
      "metadata": {
        "id": "toQM-INKc30r"
      },
      "execution_count": null,
      "outputs": []
    },
    {
      "cell_type": "code",
      "source": [
        "result = db.things.insert_many(list_of_things)"
      ],
      "metadata": {
        "id": "M7KfU4oZdo4P"
      },
      "execution_count": null,
      "outputs": []
    },
    {
      "cell_type": "code",
      "source": [
        "result"
      ],
      "metadata": {
        "colab": {
          "base_uri": "https://localhost:8080/"
        },
        "id": "8AuKf35Mdr8h",
        "outputId": "84a760f3-b94c-4ee5-8ae9-8a0e214a33eb"
      },
      "execution_count": null,
      "outputs": [
        {
          "output_type": "execute_result",
          "data": {
            "text/plain": [
              "<pymongo.results.InsertManyResult at 0x7f68a08dab50>"
            ]
          },
          "metadata": {},
          "execution_count": 58
        }
      ]
    },
    {
      "cell_type": "code",
      "source": [
        "result.inserted_ids"
      ],
      "metadata": {
        "colab": {
          "base_uri": "https://localhost:8080/"
        },
        "id": "NEGuFvSzdtGM",
        "outputId": "3b0a67e8-4394-4b20-a821-c2380c0781d7"
      },
      "execution_count": null,
      "outputs": [
        {
          "output_type": "execute_result",
          "data": {
            "text/plain": [
              "[ObjectId('63d6240a4e0027b361c607fd'),\n",
              " ObjectId('63d6240a4e0027b361c607fe'),\n",
              " ObjectId('63d6240a4e0027b361c607ff'),\n",
              " ObjectId('63d6240a4e0027b361c60800'),\n",
              " ObjectId('63d6240a4e0027b361c60801'),\n",
              " ObjectId('63d6240a4e0027b361c60802')]"
            ]
          },
          "metadata": {},
          "execution_count": 59
        }
      ]
    },
    {
      "cell_type": "code",
      "source": [
        "#Aggregation Framework\n",
        "#This example shows how to use the aggregate() method to use the aggregation framework. We’ll perform a simple aggregation to count the number of occurrences for each tag in the tags array, across the entire collection. To achieve this we need to pass in three operations to the pipeline. First, we need to unwind the tags array, then group by the tags and sum them up, finally we sort by count.\n",
        "\n",
        "#As python dictionaries don’t maintain order you should use SON or collections.OrderedDict where explicit ordering is required eg “$sort”:"
      ],
      "metadata": {
        "id": "9vXQHCV9dxrL"
      },
      "execution_count": null,
      "outputs": []
    },
    {
      "cell_type": "code",
      "source": [
        "from bson.son import SON"
      ],
      "metadata": {
        "id": "RHJhchcXcU2e"
      },
      "execution_count": null,
      "outputs": []
    },
    {
      "cell_type": "code",
      "source": [
        "pipeline = [{\"$unwind\":\"$tags\"},\n",
        "            {\"$group\":{\"_id\":\"$tags\",\"count\":{\"$sum\":1}}},\n",
        "            {\"$sort\":SON([(\"count\",-1),(\"_id\",-1)])}]"
      ],
      "metadata": {
        "id": "6e4ph46CeFww"
      },
      "execution_count": null,
      "outputs": []
    },
    {
      "cell_type": "code",
      "source": [
        "import pprint"
      ],
      "metadata": {
        "id": "_uVoQv_HevPd"
      },
      "execution_count": null,
      "outputs": []
    },
    {
      "cell_type": "code",
      "source": [
        "pprint.pprint(list(db.things.aggregate(pipeline)))"
      ],
      "metadata": {
        "colab": {
          "base_uri": "https://localhost:8080/"
        },
        "id": "IZOYC18RexuL",
        "outputId": "aca9d3c4-1981-470f-8519-12ce1d65f173"
      },
      "execution_count": null,
      "outputs": [
        {
          "output_type": "stream",
          "name": "stdout",
          "text": [
            "[{'_id': 'Banana', 'count': 10},\n",
            " {'_id': 'Tiger', 'count': 4},\n",
            " {'_id': 'Elephant', 'count': 4},\n",
            " {'_id': 'Dog', 'count': 4},\n",
            " {'_id': 'Cat', 'count': 2},\n",
            " {'_id': 'Car', 'count': 2},\n",
            " {'_id': 'Ball', 'count': 2},\n",
            " {'_id': 'Apple', 'count': 2}]\n"
          ]
        }
      ]
    },
    {
      "cell_type": "markdown",
      "source": [
        "#Authentication Examples"
      ],
      "metadata": {
        "id": "9jBcjTuQifCm"
      }
    },
    {
      "cell_type": "markdown",
      "source": [
        "##Percent-Escaping USername and Password"
      ],
      "metadata": {
        "id": "rv8SOIehijKG"
      }
    },
    {
      "cell_type": "code",
      "source": [
        "#Username and password must be percent-escaped with urllib.parse.quote(), to be used in a MongoDB URI.\n",
        "from pymongo import MongoClient\n",
        "import urllib.parse"
      ],
      "metadata": {
        "id": "XGTDZK8_e4ib"
      },
      "execution_count": null,
      "outputs": []
    },
    {
      "cell_type": "code",
      "source": [
        "username = urllib.parse.quote_plus('user')\n",
        "password = urllib.parse.quote_plus(\"Pass/word\")"
      ],
      "metadata": {
        "id": "uTJpU1PCi973"
      },
      "execution_count": null,
      "outputs": []
    },
    {
      "cell_type": "code",
      "source": [
        "username"
      ],
      "metadata": {
        "colab": {
          "base_uri": "https://localhost:8080/",
          "height": 35
        },
        "id": "CAP1SH51jJgt",
        "outputId": "711fd1de-90a4-4f69-91a9-353f4bad77f5"
      },
      "execution_count": null,
      "outputs": [
        {
          "output_type": "execute_result",
          "data": {
            "text/plain": [
              "'user'"
            ],
            "application/vnd.google.colaboratory.intrinsic+json": {
              "type": "string"
            }
          },
          "metadata": {},
          "execution_count": 66
        }
      ]
    },
    {
      "cell_type": "code",
      "source": [
        "password"
      ],
      "metadata": {
        "colab": {
          "base_uri": "https://localhost:8080/",
          "height": 35
        },
        "id": "tcUvk6qVjKjF",
        "outputId": "45eeea25-994a-400f-ebde-7a0216986ed7"
      },
      "execution_count": null,
      "outputs": [
        {
          "output_type": "execute_result",
          "data": {
            "text/plain": [
              "'Pass%2Fword'"
            ],
            "application/vnd.google.colaboratory.intrinsic+json": {
              "type": "string"
            }
          },
          "metadata": {},
          "execution_count": 69
        }
      ]
    },
    {
      "cell_type": "markdown",
      "source": [
        "##SCRAM-SHA-256 (RFC 7677)"
      ],
      "metadata": {
        "id": "AlseccT5jXBP"
      }
    },
    {
      "cell_type": "code",
      "source": [
        "client = MongoClient(\"example.com\",\n",
        "                     username=\"user\",\n",
        "                      password='password',\n",
        "                     authSource='the_database',\n",
        "                     authMechanism='SCRAM-SHA-256')"
      ],
      "metadata": {
        "id": "wc3lR71fjMmo"
      },
      "execution_count": null,
      "outputs": []
    },
    {
      "cell_type": "markdown",
      "source": [
        "#Connecting to atlas"
      ],
      "metadata": {
        "id": "nFViw36_gDlO"
      }
    },
    {
      "cell_type": "code",
      "source": [
        "!apt install mongodb"
      ],
      "metadata": {
        "colab": {
          "base_uri": "https://localhost:8080/"
        },
        "id": "ONj5eVEp0Pbt",
        "outputId": "d6b7856e-7aa7-403e-a068-f0916bb1ea90"
      },
      "execution_count": 11,
      "outputs": [
        {
          "output_type": "stream",
          "name": "stdout",
          "text": [
            "Reading package lists... Done\n",
            "Building dependency tree       \n",
            "Reading state information... Done\n",
            "mongodb is already the newest version (1:3.6.9+really3.6.8+90~g8e540c0b6d-0ubuntu5.3).\n",
            "0 upgraded, 0 newly installed, 0 to remove and 27 not upgraded.\n"
          ]
        }
      ]
    },
    {
      "cell_type": "code",
      "source": [
        "!service mongodb start"
      ],
      "metadata": {
        "colab": {
          "base_uri": "https://localhost:8080/"
        },
        "id": "ny94l1530QDP",
        "outputId": "aa983b41-3c98-4ef1-e349-9571c8ad677b"
      },
      "execution_count": 12,
      "outputs": [
        {
          "output_type": "stream",
          "name": "stdout",
          "text": [
            " * Starting database mongodb\n",
            "   ...done.\n"
          ]
        }
      ]
    },
    {
      "cell_type": "code",
      "source": [
        "from pymongo import MongoClient"
      ],
      "metadata": {
        "id": "1s9kWTCc1krU"
      },
      "execution_count": 13,
      "outputs": []
    },
    {
      "cell_type": "code",
      "source": [
        "!curl ipecho.net/plain"
      ],
      "metadata": {
        "colab": {
          "base_uri": "https://localhost:8080/"
        },
        "id": "k8Sz3VZu1oRu",
        "outputId": "a476b0f1-fc34-47a4-9849-2bcea4bc05fb"
      },
      "execution_count": 14,
      "outputs": [
        {
          "output_type": "stream",
          "name": "stdout",
          "text": [
            "35.237.95.86"
          ]
        }
      ]
    },
    {
      "cell_type": "code",
      "source": [
        "!python3 --version"
      ],
      "metadata": {
        "colab": {
          "base_uri": "https://localhost:8080/"
        },
        "id": "eBJASc206KZo",
        "outputId": "7485d21d-0dd8-4729-c28c-0813e2ccef32"
      },
      "execution_count": null,
      "outputs": [
        {
          "output_type": "stream",
          "name": "stdout",
          "text": [
            "Python 3.8.10\n"
          ]
        }
      ]
    },
    {
      "cell_type": "code",
      "source": [
        "#Go to setting in Atlas and enter the ip address given above"
      ],
      "metadata": {
        "id": "s-_uvDDn1rWu"
      },
      "execution_count": null,
      "outputs": []
    },
    {
      "cell_type": "code",
      "source": [
        "#Read textfile which contains the link \n",
        "#do not reveal it as it contains password\n",
        "file_path = \"/content/url.txt\"\n",
        "file1 = open(file_path,\"r+\") \n",
        "cluster = file1.read()"
      ],
      "metadata": {
        "id": "U8zWvJt48A0J"
      },
      "execution_count": 15,
      "outputs": []
    },
    {
      "cell_type": "code",
      "source": [
        "client = MongoClient(cluster)"
      ],
      "metadata": {
        "id": "6WJsQMPEgOz3"
      },
      "execution_count": 16,
      "outputs": []
    },
    {
      "cell_type": "markdown",
      "source": [
        "**List of database** "
      ],
      "metadata": {
        "id": "qasWWY2q4whP"
      }
    },
    {
      "cell_type": "code",
      "source": [
        "print(client.list_database_names())"
      ],
      "metadata": {
        "colab": {
          "base_uri": "https://localhost:8080/"
        },
        "id": "Zn4NpmkHgXz8",
        "outputId": "cba37177-0954-47aa-e238-3fa72fe1f891"
      },
      "execution_count": 17,
      "outputs": [
        {
          "output_type": "stream",
          "name": "stdout",
          "text": [
            "['Books', 'CarsDB', 'sample_airbnb', 'sample_analytics', 'sample_geospatial', 'sample_guides', 'sample_mflix', 'sample_restaurants', 'sample_supplies', 'sample_training', 'sample_weatherdata', 'admin', 'local']\n"
          ]
        }
      ]
    },
    {
      "cell_type": "markdown",
      "source": [
        "**Selecting database**"
      ],
      "metadata": {
        "id": "crmFXb_242yH"
      }
    },
    {
      "cell_type": "code",
      "source": [
        "db = client['CarsDB']"
      ],
      "metadata": {
        "id": "HspdX_3l3IkG"
      },
      "execution_count": null,
      "outputs": []
    },
    {
      "cell_type": "code",
      "source": [
        "#Listing collections in database\n",
        "db.list_collection_names()"
      ],
      "metadata": {
        "colab": {
          "base_uri": "https://localhost:8080/"
        },
        "id": "JLhBSyBf4Otp",
        "outputId": "2c03979f-8450-47d6-95d4-979d16109c0e"
      },
      "execution_count": null,
      "outputs": [
        {
          "output_type": "execute_result",
          "data": {
            "text/plain": [
              "['Cars']"
            ]
          },
          "metadata": {},
          "execution_count": 10
        }
      ]
    },
    {
      "cell_type": "code",
      "source": [
        "dir(db)"
      ],
      "metadata": {
        "id": "zkf_lE-O3K09"
      },
      "execution_count": null,
      "outputs": []
    },
    {
      "cell_type": "code",
      "source": [
        "#select collection\n",
        "car_collection = db['Cars']"
      ],
      "metadata": {
        "id": "QDId1bzzgb3S"
      },
      "execution_count": null,
      "outputs": []
    },
    {
      "cell_type": "code",
      "source": [
        "#get data in this collection\n",
        "for x in car_collection.find():\n",
        "  print(x)"
      ],
      "metadata": {
        "id": "3ltp8cl76ZT7"
      },
      "execution_count": null,
      "outputs": []
    },
    {
      "cell_type": "markdown",
      "source": [
        "#Upload a csv file in mongodb"
      ],
      "metadata": {
        "id": "otw0xlG38C3v"
      }
    },
    {
      "cell_type": "code",
      "source": [
        "path = \"/content/drive/MyDrive/Neptune/PyMongo/Data/final_book_dataset_kaggle2.csv\""
      ],
      "metadata": {
        "id": "YsUPTbwy29H5"
      },
      "execution_count": null,
      "outputs": []
    },
    {
      "cell_type": "code",
      "source": [
        "#Creating new database\n",
        "my_books_db = client[\"Books\"]\n"
      ],
      "metadata": {
        "id": "En6I8eK99XnG"
      },
      "execution_count": null,
      "outputs": []
    },
    {
      "cell_type": "code",
      "source": [
        "#Creating new collection\n",
        "data_books = my_books_db['data_sci_books']"
      ],
      "metadata": {
        "id": "mD0sih0K9pax"
      },
      "execution_count": null,
      "outputs": []
    },
    {
      "cell_type": "code",
      "source": [
        "import csv"
      ],
      "metadata": {
        "id": "zWih8YKL98rD"
      },
      "execution_count": null,
      "outputs": []
    },
    {
      "cell_type": "code",
      "source": [
        "header = [ \"title\", \"author\", \"price\",\"price (including used books)\",\n",
        "          \"pages\",\"avg_reviews\",\"n_reviews\",\"star5\",\"star4\",\"star3\",\"star2\",\"star1\",\"dimensions\",\"weight\",\"language\",\"publisher\",\"ISBN_13\",\"link\"]\n",
        "csvfile = open(path,'r')"
      ],
      "metadata": {
        "id": "YlrcCN7C94Ur"
      },
      "execution_count": null,
      "outputs": []
    },
    {
      "cell_type": "code",
      "source": [
        "reader = csv.DictReader( csvfile )"
      ],
      "metadata": {
        "id": "1WmuteotAd_d"
      },
      "execution_count": null,
      "outputs": []
    },
    {
      "cell_type": "code",
      "source": [
        "for each in reader:\n",
        "  row={}\n",
        "  for field in header:\n",
        "    row[field]=each[field]\n",
        "\n",
        "  data_books.insert_one(row)"
      ],
      "metadata": {
        "id": "_MB4EkwmAh6X"
      },
      "execution_count": null,
      "outputs": []
    },
    {
      "cell_type": "code",
      "source": [
        "print(client.list_database_names())"
      ],
      "metadata": {
        "colab": {
          "base_uri": "https://localhost:8080/"
        },
        "id": "vwLNjTnw-zFr",
        "outputId": "c55dc021-07d0-4942-df75-986b510915e6"
      },
      "execution_count": null,
      "outputs": [
        {
          "output_type": "stream",
          "name": "stdout",
          "text": [
            "['Books', 'CarsDB', 'sample_airbnb', 'sample_analytics', 'sample_geospatial', 'sample_guides', 'sample_mflix', 'sample_restaurants', 'sample_supplies', 'sample_training', 'sample_weatherdata', 'admin', 'local']\n"
          ]
        }
      ]
    },
    {
      "cell_type": "code",
      "source": [
        "dir(data_books)"
      ],
      "metadata": {
        "id": "5v_R94p7-heZ"
      },
      "execution_count": null,
      "outputs": []
    },
    {
      "cell_type": "code",
      "source": [
        "for x in data_books.find().limit(5):\n",
        "  print(x)"
      ],
      "metadata": {
        "colab": {
          "base_uri": "https://localhost:8080/"
        },
        "id": "inBOpnKr-Zam",
        "outputId": "83d54643-808d-4b13-8d24-11a7484b166b"
      },
      "execution_count": null,
      "outputs": [
        {
          "output_type": "stream",
          "name": "stdout",
          "text": [
            "{'_id': ObjectId('63d74ca9f819a4d069171e27'), 'title': 'Data Analysis Using R (Low Priced Edition): A Primer for Data Scientist', 'author': '[ Dr Dhaval Maheta]', 'price': 6.75, 'price (including used books)': '6.75', 'pages': '500', 'avg_reviews': '4.4', 'n_reviews': '23', 'star5': '55%', 'star4': '39%', 'star3': '6%', 'star2': '', 'star1': '', 'dimensions': '8.5 x 1.01 x 11 inches', 'weight': '2.53 pounds', 'language': 'English', 'publisher': 'Notion Press Media Pvt Ltd (November 22, 2021)', 'ISBN_13': '978-1685549596', 'link': '/Data-Analysis-Using-Low-Priced/dp/1685549594/ref=sr_1_16?keywords=data+analysis&qid=1671164640&sr=8-16'}\n",
            "{'_id': ObjectId('63d74ca9f819a4d069171e28'), 'title': \"Head First Data Analysis: A learner's guide to big numbers, statistics, and good decisions\", 'author': '', 'price': 33.72, 'price (including used books)': ' 21.49 - 33.72 ', 'pages': '484', 'avg_reviews': '4.3', 'n_reviews': '124', 'star5': '61%', 'star4': '20%', 'star3': '9%', 'star2': '4%', 'star1': '6%', 'dimensions': '8 x 0.98 x 9.25 inches', 'weight': '1.96 pounds', 'language': 'English', 'publisher': \"O'Reilly Media; 1st edition (August 18, 2009)\", 'ISBN_13': '978-0596153939', 'link': '/Head-First-Data-Analysis-statistics/dp/0596153937/ref=sr_1_15?keywords=data+analysis&qid=1671164640&sr=8-15'}\n",
            "{'_id': ObjectId('63d74caaf819a4d069171e29'), 'title': 'Guerrilla Data Analysis Using Microsoft Excel: Overcoming Crap Data and Excel Skirmishes', 'author': '[ Oz du Soleil,  and , Bill Jelen]', 'price': 32.07, 'price (including used books)': '32.07', 'pages': '274', 'avg_reviews': '4.7', 'n_reviews': '10', 'star5': '87%', 'star4': '13%', 'star3': '', 'star2': '', 'star1': '', 'dimensions': '8.25 x 0.6 x 10.75 inches', 'weight': '1.4 pounds', 'language': 'English', 'publisher': 'Holy Macro! Books; Third edition (August 1, 2022)', 'ISBN_13': '978-1615470747', 'link': '/Guerrilla-Analysis-Using-Microsoft-Excel/dp/1615470743/ref=sr_1_14?keywords=data+analysis&qid=1671164640&sr=8-14'}\n",
            "{'_id': ObjectId('63d74caaf819a4d069171e2a'), 'title': 'Python for Data Analysis: Data Wrangling with Pandas, NumPy, and IPython', 'author': '[ William McKinney]', 'price': 53.99, 'price (including used books)': '53.99', 'pages': '547', 'avg_reviews': '4.6', 'n_reviews': '1,686', 'star5': '75%', 'star4': '16%', 'star3': '5%', 'star2': '2%', 'star1': '2%', 'dimensions': '7 x 1.11 x 9.19 inches', 'weight': '1.47 pounds', 'language': 'English', 'publisher': \"O'Reilly Media; 2nd edition (November 14, 2017)\", 'ISBN_13': '978-1491957660', 'link': '/Python-Data-Analysis-Wrangling-IPython/dp/1491957662/ref=sr_1_11?keywords=data+analysis&qid=1671164640&sr=8-11'}\n",
            "{'_id': ObjectId('63d74caaf819a4d069171e2b'), 'title': 'Excel Data Analysis For Dummies (For Dummies (Computer/Tech))', 'author': '[ Paul McFedries]', 'price': 24.49, 'price (including used books)': '24.49', 'pages': '368', 'avg_reviews': '3.9', 'n_reviews': '12', 'star5': '52%', 'star4': '17%', 'star3': '10%', 'star2': '10%', 'star1': '10%', 'dimensions': '7.38 x 0.83 x 9.25 inches', 'weight': '1.3 pounds', 'language': 'English', 'publisher': 'For Dummies; 5th edition (February 3, 2022)', 'ISBN_13': '978-1119844426', 'link': '/Excel-Data-Analysis-Dummies-Computer/dp/1119844428/ref=sr_1_12?keywords=data+analysis&qid=1671164640&sr=8-12'}\n"
          ]
        }
      ]
    },
    {
      "cell_type": "code",
      "source": [
        "\n",
        "myquery = { \"pages\": { \"$regex\": \"^$\" } }\n",
        "newvalues = { \"$set\": { \"pages\": \"0\" } }\n",
        "\n",
        "x = data_books.update_many(myquery, newvalues)\n",
        "\n",
        "print(x.modified_count, \"documents updated.\")"
      ],
      "metadata": {
        "colab": {
          "base_uri": "https://localhost:8080/"
        },
        "id": "8M36A9nbEisI",
        "outputId": "ab6ce3ba-af44-41e7-a30e-3152446212fc"
      },
      "execution_count": null,
      "outputs": [
        {
          "output_type": "stream",
          "name": "stdout",
          "text": [
            "85 documents updated.\n"
          ]
        }
      ]
    },
    {
      "cell_type": "code",
      "source": [
        "data_books.update_many({},[{\"$set\":{ \"pages\" : {\"$toDouble\": \"$pages\"}}} ])"
      ],
      "metadata": {
        "id": "RlHPCcauQchY",
        "colab": {
          "base_uri": "https://localhost:8080/"
        },
        "outputId": "3826f197-8c74-4812-e8a8-c1afa2aaa002"
      },
      "execution_count": null,
      "outputs": [
        {
          "output_type": "execute_result",
          "data": {
            "text/plain": [
              "<pymongo.results.UpdateResult at 0x7f60ddb96910>"
            ]
          },
          "metadata": {},
          "execution_count": 69
        }
      ]
    },
    {
      "cell_type": "code",
      "source": [
        "\n",
        "myquery = { \"price\": { \"$regex\": \"^$\" } }\n",
        "newvalues = { \"$set\": { \"price\": \"0\" } }\n",
        "\n",
        "x = data_books.update_many(myquery, newvalues)\n",
        "\n",
        "print(x.modified_count, \"documents updated.\")\n",
        "data_books.update_many({},[{\"$set\":{ \"price\" : {\"$toDouble\": \"$price\"}}} ])"
      ],
      "metadata": {
        "colab": {
          "base_uri": "https://localhost:8080/"
        },
        "id": "7stjoRLpUtl-",
        "outputId": "87ec364d-a1a7-4229-d308-461a11f63a5f"
      },
      "execution_count": null,
      "outputs": [
        {
          "output_type": "stream",
          "name": "stdout",
          "text": [
            "108 documents updated.\n"
          ]
        },
        {
          "output_type": "execute_result",
          "data": {
            "text/plain": [
              "<pymongo.results.UpdateResult at 0x7f60e7b94580>"
            ]
          },
          "metadata": {},
          "execution_count": 70
        }
      ]
    },
    {
      "cell_type": "code",
      "source": [
        "#avg_reviews from string to double\n",
        "\n",
        "myquery = { \"avg_reviews\": { \"$regex\": \"^$\" } }\n",
        "newvalues = { \"$set\": { \"avg_reviews\": \"0\" } }\n",
        "\n",
        "x = data_books.update_many(myquery, newvalues)\n",
        "\n",
        "print(x.modified_count, \"documents updated.\")\n",
        "data_books.update_many({},[{\"$set\":{ \"avg_reviews\" : {\"$toDouble\": \"$avg_reviews\"}}} ])"
      ],
      "metadata": {
        "colab": {
          "base_uri": "https://localhost:8080/"
        },
        "id": "Mu04wg6GVpct",
        "outputId": "59161743-80f5-42aa-de3a-9a17fe1a6c28"
      },
      "execution_count": null,
      "outputs": [
        {
          "output_type": "stream",
          "name": "stdout",
          "text": [
            "128 documents updated.\n"
          ]
        },
        {
          "output_type": "execute_result",
          "data": {
            "text/plain": [
              "<pymongo.results.UpdateResult at 0x7f60ecb9e100>"
            ]
          },
          "metadata": {},
          "execution_count": 71
        }
      ]
    },
    {
      "cell_type": "code",
      "source": [
        "#Finding book with highest avg_review\n",
        "results = data_books.find().sort(\"avg_reviews\",-1).limit(1)"
      ],
      "metadata": {
        "id": "clZcCuGWWxP2"
      },
      "execution_count": null,
      "outputs": []
    },
    {
      "cell_type": "code",
      "source": [
        "for result in results:\n",
        "  print(result)"
      ],
      "metadata": {
        "colab": {
          "base_uri": "https://localhost:8080/"
        },
        "id": "2BXvWkRaXkUv",
        "outputId": "9fa9c3cc-7cd9-44d3-8b3c-977dc3327bda"
      },
      "execution_count": null,
      "outputs": [
        {
          "output_type": "stream",
          "name": "stdout",
          "text": [
            "{'_id': ObjectId('63d74cabf819a4d069171e2f'), 'title': 'Topological Data Analysis with Applications', 'author': '[ Gunnar Carlsson,  and , Mikael Vejdemo-Johansson]', 'price': 0.0, 'price (including used books)': ' 53.98 - 54.19 ', 'pages': 230.0, 'avg_reviews': 5.0, 'n_reviews': '5', 'star5': '100%', 'star4': '', 'star3': '', 'star2': '', 'star1': '', 'dimensions': '6.75 x 0.75 x 9.75 inches', 'weight': '1.28 pounds', 'language': 'English', 'publisher': 'Cambridge University Press; 1st edition (March 24, 2022)', 'ISBN_13': '978-1108838658', 'link': '/Topological-Analysis-Applications-Gunnar-Carlsson/dp/1108838650/ref=sr_1_37?keywords=data+analysis&qid=1671164640&sr=8-37'}\n"
          ]
        }
      ]
    },
    {
      "cell_type": "code",
      "source": [],
      "metadata": {
        "id": "Zn7Ac8kvYF15"
      },
      "execution_count": null,
      "outputs": []
    },
    {
      "cell_type": "code",
      "source": [],
      "metadata": {
        "id": "jbhYAtTCYCkM"
      },
      "execution_count": null,
      "outputs": []
    },
    {
      "cell_type": "code",
      "source": [],
      "metadata": {
        "id": "R170H2vagCW7"
      },
      "execution_count": null,
      "outputs": []
    }
  ]
}